{
 "cells": [
  {
   "cell_type": "markdown",
   "metadata": {},
   "source": [
    "## <center>inspired by this tweet https://twitter.com/MEKhoko/status/981868845794283520</center>\n",
    "\n",
    "<img src=\"fundstrat.jpg\">"
   ]
  },
  {
   "cell_type": "code",
   "execution_count": 93,
   "metadata": {},
   "outputs": [],
   "source": [
    "# Imports\n",
    "%matplotlib inline\n",
    "import quandl\n",
    "import numpy as np\n",
    "import pandas as pd\n",
    "import matplotlib.pyplot as plt"
   ]
  },
  {
   "cell_type": "code",
   "execution_count": 94,
   "metadata": {},
   "outputs": [],
   "source": [
    "# Get price data from Quandl\n",
    "data = quandl.get(\"BCHAIN/MKPRU\")\n",
    "data = data.shift(-1) # data set has daily open, we want daily close"
   ]
  },
  {
   "cell_type": "code",
   "execution_count": 95,
   "metadata": {},
   "outputs": [
    {
     "data": {
      "text/html": [
       "<div>\n",
       "<style scoped>\n",
       "    .dataframe tbody tr th:only-of-type {\n",
       "        vertical-align: middle;\n",
       "    }\n",
       "\n",
       "    .dataframe tbody tr th {\n",
       "        vertical-align: top;\n",
       "    }\n",
       "\n",
       "    .dataframe thead th {\n",
       "        text-align: right;\n",
       "    }\n",
       "</style>\n",
       "<table border=\"1\" class=\"dataframe\">\n",
       "  <thead>\n",
       "    <tr style=\"text-align: right;\">\n",
       "      <th></th>\n",
       "      <th>Value</th>\n",
       "    </tr>\n",
       "    <tr>\n",
       "      <th>Date</th>\n",
       "      <th></th>\n",
       "    </tr>\n",
       "  </thead>\n",
       "  <tbody>\n",
       "    <tr>\n",
       "      <th>2009-01-03</th>\n",
       "      <td>0.0</td>\n",
       "    </tr>\n",
       "    <tr>\n",
       "      <th>2009-01-04</th>\n",
       "      <td>0.0</td>\n",
       "    </tr>\n",
       "    <tr>\n",
       "      <th>2009-01-05</th>\n",
       "      <td>0.0</td>\n",
       "    </tr>\n",
       "    <tr>\n",
       "      <th>2009-01-06</th>\n",
       "      <td>0.0</td>\n",
       "    </tr>\n",
       "    <tr>\n",
       "      <th>2009-01-07</th>\n",
       "      <td>0.0</td>\n",
       "    </tr>\n",
       "  </tbody>\n",
       "</table>\n",
       "</div>"
      ],
      "text/plain": [
       "            Value\n",
       "Date             \n",
       "2009-01-03    0.0\n",
       "2009-01-04    0.0\n",
       "2009-01-05    0.0\n",
       "2009-01-06    0.0\n",
       "2009-01-07    0.0"
      ]
     },
     "execution_count": 95,
     "metadata": {},
     "output_type": "execute_result"
    }
   ],
   "source": [
    "# Take a look\n",
    "data.head()"
   ]
  },
  {
   "cell_type": "code",
   "execution_count": 96,
   "metadata": {},
   "outputs": [
    {
     "data": {
      "text/html": [
       "<div>\n",
       "<style scoped>\n",
       "    .dataframe tbody tr th:only-of-type {\n",
       "        vertical-align: middle;\n",
       "    }\n",
       "\n",
       "    .dataframe tbody tr th {\n",
       "        vertical-align: top;\n",
       "    }\n",
       "\n",
       "    .dataframe thead th {\n",
       "        text-align: right;\n",
       "    }\n",
       "</style>\n",
       "<table border=\"1\" class=\"dataframe\">\n",
       "  <thead>\n",
       "    <tr style=\"text-align: right;\">\n",
       "      <th></th>\n",
       "      <th>Value</th>\n",
       "    </tr>\n",
       "    <tr>\n",
       "      <th>Date</th>\n",
       "      <th></th>\n",
       "    </tr>\n",
       "  </thead>\n",
       "  <tbody>\n",
       "    <tr>\n",
       "      <th>2010-08-16</th>\n",
       "      <td>0.076900</td>\n",
       "    </tr>\n",
       "    <tr>\n",
       "      <th>2010-08-17</th>\n",
       "      <td>0.074000</td>\n",
       "    </tr>\n",
       "    <tr>\n",
       "      <th>2010-08-18</th>\n",
       "      <td>0.068800</td>\n",
       "    </tr>\n",
       "    <tr>\n",
       "      <th>2010-08-19</th>\n",
       "      <td>0.066700</td>\n",
       "    </tr>\n",
       "    <tr>\n",
       "      <th>2010-08-20</th>\n",
       "      <td>0.066899</td>\n",
       "    </tr>\n",
       "  </tbody>\n",
       "</table>\n",
       "</div>"
      ],
      "text/plain": [
       "               Value\n",
       "Date                \n",
       "2010-08-16  0.076900\n",
       "2010-08-17  0.074000\n",
       "2010-08-18  0.068800\n",
       "2010-08-19  0.066700\n",
       "2010-08-20  0.066899"
      ]
     },
     "execution_count": 96,
     "metadata": {},
     "output_type": "execute_result"
    }
   ],
   "source": [
    "# See where the 0's end\n",
    "data.loc[data['Value'] > 0].head()"
   ]
  },
  {
   "cell_type": "code",
   "execution_count": 97,
   "metadata": {},
   "outputs": [],
   "source": [
    "# Remove the 0's\n",
    "data = data.loc['2010-08-17':]"
   ]
  },
  {
   "cell_type": "code",
   "execution_count": 98,
   "metadata": {},
   "outputs": [
    {
     "data": {
      "text/html": [
       "<div>\n",
       "<style scoped>\n",
       "    .dataframe tbody tr th:only-of-type {\n",
       "        vertical-align: middle;\n",
       "    }\n",
       "\n",
       "    .dataframe tbody tr th {\n",
       "        vertical-align: top;\n",
       "    }\n",
       "\n",
       "    .dataframe thead th {\n",
       "        text-align: right;\n",
       "    }\n",
       "</style>\n",
       "<table border=\"1\" class=\"dataframe\">\n",
       "  <thead>\n",
       "    <tr style=\"text-align: right;\">\n",
       "      <th></th>\n",
       "      <th>Value</th>\n",
       "    </tr>\n",
       "    <tr>\n",
       "      <th>Date</th>\n",
       "      <th></th>\n",
       "    </tr>\n",
       "  </thead>\n",
       "  <tbody>\n",
       "    <tr>\n",
       "      <th>2010-08-17</th>\n",
       "      <td>0.074000</td>\n",
       "    </tr>\n",
       "    <tr>\n",
       "      <th>2010-08-18</th>\n",
       "      <td>0.068800</td>\n",
       "    </tr>\n",
       "    <tr>\n",
       "      <th>2010-08-19</th>\n",
       "      <td>0.066700</td>\n",
       "    </tr>\n",
       "    <tr>\n",
       "      <th>2010-08-20</th>\n",
       "      <td>0.066899</td>\n",
       "    </tr>\n",
       "    <tr>\n",
       "      <th>2010-08-21</th>\n",
       "      <td>0.066400</td>\n",
       "    </tr>\n",
       "  </tbody>\n",
       "</table>\n",
       "</div>"
      ],
      "text/plain": [
       "               Value\n",
       "Date                \n",
       "2010-08-17  0.074000\n",
       "2010-08-18  0.068800\n",
       "2010-08-19  0.066700\n",
       "2010-08-20  0.066899\n",
       "2010-08-21  0.066400"
      ]
     },
     "execution_count": 98,
     "metadata": {},
     "output_type": "execute_result"
    }
   ],
   "source": [
    "# Look again\n",
    "data.head()"
   ]
  },
  {
   "cell_type": "code",
   "execution_count": 99,
   "metadata": {},
   "outputs": [
    {
     "name": "stdout",
     "output_type": "stream",
     "text": [
      "<class 'pandas.core.frame.DataFrame'>\n",
      "DatetimeIndex: 2801 entries, 2010-08-17 to 2018-04-17\n",
      "Data columns (total 1 columns):\n",
      "Value    2800 non-null float64\n",
      "dtypes: float64(1)\n",
      "memory usage: 43.8 KB\n"
     ]
    }
   ],
   "source": [
    "# Summary, no. of rows looks correct\n",
    "data.info()"
   ]
  },
  {
   "cell_type": "code",
   "execution_count": 100,
   "metadata": {},
   "outputs": [
    {
     "data": {
      "text/plain": [
       "<matplotlib.axes._subplots.AxesSubplot at 0x1202701d0>"
      ]
     },
     "execution_count": 100,
     "metadata": {},
     "output_type": "execute_result"
    },
    {
     "data": {
      "image/png": "[encoded data removed]",
      "text/plain": [
       "<matplotlib.figure.Figure at 0x120285e50>"
      ]
     },
     "metadata": {},
     "output_type": "display_data"
    }
   ],
   "source": [
    "# Visual check of price data\n",
    "data['Value'].plot(figsize=(12,8))"
   ]
  },
  {
   "cell_type": "code",
   "execution_count": 101,
   "metadata": {},
   "outputs": [
    {
     "data": {
      "text/plain": [
       "<matplotlib.axes._subplots.AxesSubplot at 0x12030c190>"
      ]
     },
     "execution_count": 101,
     "metadata": {},
     "output_type": "execute_result"
    },
    {
     "name": "stderr",
     "output_type": "stream",
     "text": [
      "/Users/danielcimring/anaconda2/lib/python2.7/site-packages/matplotlib/scale.py:111: RuntimeWarning: invalid value encountered in less_equal\n",
      "  out[a <= 0] = -1000\n"
     ]
    },
    {
     "data": {
      "image/png": "[encoded data removed]",
      "text/plain": [
       "<matplotlib.figure.Figure at 0x1202f5490>"
      ]
     },
     "metadata": {},
     "output_type": "display_data"
    }
   ],
   "source": [
    "# Using a log scale\n",
    "data['Value'].plot(figsize=(12,8), logy=True)"
   ]
  },
  {
   "cell_type": "code",
   "execution_count": 58,
   "metadata": {},
   "outputs": [
    {
     "data": {
      "text/plain": [
       "array([[<matplotlib.axes._subplots.AxesSubplot object at 0x11be32710>,\n",
       "        <matplotlib.axes._subplots.AxesSubplot object at 0x11bdd8890>,\n",
       "        <matplotlib.axes._subplots.AxesSubplot object at 0x11be18e10>],\n",
       "       [<matplotlib.axes._subplots.AxesSubplot object at 0x11be6b450>,\n",
       "        <matplotlib.axes._subplots.AxesSubplot object at 0x11c046850>,\n",
       "        <matplotlib.axes._subplots.AxesSubplot object at 0x11c084690>],\n",
       "       [<matplotlib.axes._subplots.AxesSubplot object at 0x11c0c6d10>,\n",
       "        <matplotlib.axes._subplots.AxesSubplot object at 0x11c1180d0>,\n",
       "        <matplotlib.axes._subplots.AxesSubplot object at 0x11c15bb50>]],\n",
       "      dtype=object)"
      ]
     },
     "execution_count": 58,
     "metadata": {},
     "output_type": "execute_result"
    },
    {
     "data": {
      "image/png": "[encoded data removed]",
      "text/plain": [
       "<matplotlib.figure.Figure at 0x11be521d0>"
      ]
     },
     "metadata": {},
     "output_type": "display_data"
    }
   ],
   "source": [
    "# Freq plot by year showing distribution of returns\n",
    "(data.pct_change() * 100).hist(bins=100, figsize = (12,10), by = lambda x: x.year)"
   ]
  },
  {
   "cell_type": "code",
   "execution_count": 59,
   "metadata": {},
   "outputs": [
    {
     "name": "stdout",
     "output_type": "stream",
     "text": [
      "Worst--------------------\n",
      "Date\n",
      "2010-09-15   -64.628571\n",
      "2013-04-11   -38.016700\n",
      "2013-04-10   -37.676273\n",
      "2010-11-07   -25.999852\n",
      "2010-10-11   -23.904689\n",
      "2015-01-13   -23.556672\n",
      "2011-10-17   -22.871520\n",
      "2012-08-18   -21.363762\n",
      "2010-10-24   -21.052632\n",
      "2010-11-09   -20.813539\n",
      "Name: Value, dtype: float64\n",
      "Best--------------------\n",
      "Date\n",
      "2010-09-14    173.010920\n",
      "2011-01-31     90.000000\n",
      "2010-10-23     74.295936\n",
      "2010-11-06     72.413448\n",
      "2011-06-07     67.418153\n",
      "2011-04-29     53.702222\n",
      "2013-04-12     43.159698\n",
      "2011-05-12     42.017284\n",
      "2010-11-02     40.664962\n",
      "2010-10-07     37.931034\n",
      "Name: Value, dtype: float64\n"
     ]
    }
   ],
   "source": [
    "# Best and worst days from entire data set\n",
    "print \"Worst\" + \"-\" * 20\n",
    "print((data['Value'].pct_change() * 100).dropna().sort_values().head(10).sort_values())\n",
    "print \"Best\" + \"-\" * 20\n",
    "print((data['Value'].pct_change() * 100).dropna().sort_values().tail(10).sort_values(ascending = False))"
   ]
  },
  {
   "cell_type": "code",
   "execution_count": 60,
   "metadata": {},
   "outputs": [],
   "source": [
    "# Group by year, calculate yearly returns, drop years without full year of data\n",
    "data_annual = data.asfreq(\"Y\")\n",
    "data_annual['Returns'] = data_annual['Value'].pct_change() * 100\n",
    "data_annual.index = data_annual.index.year\n",
    "data_annual.dropna(inplace=True)"
   ]
  },
  {
   "cell_type": "code",
   "execution_count": 61,
   "metadata": {},
   "outputs": [
    {
     "data": {
      "text/plain": [
       "Date\n",
       "2011    1633.344889\n",
       "2012     160.788462\n",
       "2013    5407.705921\n",
       "2014     -57.731959\n",
       "2015      35.996199\n",
       "2016     123.568733\n",
       "2017    1375.780574\n",
       "Name: Returns, dtype: float64"
      ]
     },
     "execution_count": 61,
     "metadata": {},
     "output_type": "execute_result"
    }
   ],
   "source": [
    "# Take a look at results\n",
    "data_annual['Returns'].head(10)"
   ]
  },
  {
   "cell_type": "code",
   "execution_count": 62,
   "metadata": {},
   "outputs": [
    {
     "data": {
      "image/png": "[encoded data removed]",
      "text/plain": [
       "<matplotlib.figure.Figure at 0x11c2a3690>"
      ]
     },
     "metadata": {},
     "output_type": "display_data"
    }
   ],
   "source": [
    "# Chart the results\n",
    "colors = np.sign(data_annual['Returns']).map({1 : 'g', -1 : 'r'}).values\n",
    "data_annual.index.name = '' # Don't want to show 'Date' as a label on chart\n",
    "ax = data_annual['Returns'].plot(kind='bar', figsize=(12,8),color = colors)\n",
    "ax.legend([\"Fully invested\"]);\n",
    "for p in ax.patches:\n",
    "    b = p.get_bbox()\n",
    "    val = \"{:,.0f}%\".format(b.y1 + b.y0)        \n",
    "    ax.annotate(val,((b.x0 + b.x1) / 2 + len(val) * -0.03, b.y1 + 110))"
   ]
  },
  {
   "cell_type": "code",
   "execution_count": 63,
   "metadata": {},
   "outputs": [],
   "source": [
    "# Back to daily data, calculate returns from prices and then group by year\n",
    "data['Returns'] = data['Value'].pct_change()\n",
    "data.dropna(inplace = True)\n",
    "returns_by_year = data.groupby(lambda x: x.year)"
   ]
  },
  {
   "cell_type": "code",
   "execution_count": 92,
   "metadata": {},
   "outputs": [
    {
     "name": "stdout",
     "output_type": "stream",
     "text": [
      "2010 ------------------------------\n",
      "Full year return 305%\n",
      "top 10 days return 4,403%\n",
      "Return if miss 10 top days -91%\n",
      "10 best days\n",
      "Date\n",
      "2010-09-14    173.010920\n",
      "2010-10-23     74.295936\n",
      "2010-11-06     72.413448\n",
      "2010-11-02     40.664962\n",
      "2010-10-07     37.931034\n",
      "2010-10-08     36.375000\n",
      "2010-10-25     26.666667\n",
      "2010-11-05     20.883702\n",
      "2010-11-12     19.521912\n",
      "2010-10-14     13.333333\n",
      "Name: Returns, dtype: float64\n",
      "2011 ------------------------------\n",
      "Full year return 1,633%\n",
      "top 10 days return 3,489%\n",
      "Return if miss 10 top days -52%\n",
      "10 best days\n",
      "Date\n",
      "2011-01-31    90.000000\n",
      "2011-06-07    67.418153\n",
      "2011-04-29    53.702222\n",
      "2011-05-12    42.017284\n",
      "2011-08-08    36.107987\n",
      "2011-04-27    35.897436\n",
      "2011-06-02    35.288553\n",
      "2011-05-09    32.080264\n",
      "2011-04-23    25.887669\n",
      "2011-05-25    24.234354\n",
      "Name: Returns, dtype: float64\n",
      "2012 ------------------------------\n",
      "Full year return 161%\n",
      "top 10 days return 203%\n",
      "Return if miss 10 top days -14%\n",
      "10 best days\n",
      "Date\n",
      "2012-07-16    14.476652\n",
      "2012-08-26    14.416059\n",
      "2012-01-04    14.139450\n",
      "2012-08-02    13.457143\n",
      "2012-01-05    12.830130\n",
      "2012-08-16    11.262110\n",
      "2012-02-01     9.968074\n",
      "2012-08-15     9.243804\n",
      "2012-03-12     9.091276\n",
      "2012-02-22     8.475991\n",
      "Name: Returns, dtype: float64\n",
      "2013 ------------------------------\n",
      "Full year return 5,408%\n",
      "top 10 days return 798%\n",
      "Return if miss 10 top days 514%\n",
      "10 best days\n",
      "Date\n",
      "2013-04-12    43.159698\n",
      "2013-04-08    29.342391\n",
      "2013-04-02    27.646464\n",
      "2013-11-17    25.952484\n",
      "2013-04-18    23.958549\n",
      "2013-03-18    21.217209\n",
      "2013-12-08    20.471929\n",
      "2013-05-03    20.225217\n",
      "2013-03-05    18.631369\n",
      "2013-11-20    16.798319\n",
      "Name: Returns, dtype: float64\n",
      "2014 ------------------------------\n",
      "Full year return -58%\n",
      "top 10 days return 205%\n",
      "Return if miss 10 top days -86%\n",
      "10 best days\n",
      "Date\n",
      "2014-03-02    19.043366\n",
      "2014-11-11    17.814486\n",
      "2014-10-05    12.779651\n",
      "2014-04-13    11.886420\n",
      "2014-02-25    10.867424\n",
      "2014-05-24    10.254640\n",
      "2014-10-08     9.437995\n",
      "2014-01-04     8.952066\n",
      "2014-05-31     8.788782\n",
      "2014-05-19     8.644326\n",
      "Name: Returns, dtype: float64\n",
      "2015 ------------------------------\n",
      "Full year return 36%\n",
      "top 10 days return 175%\n",
      "Return if miss 10 top days -51%\n",
      "10 best days\n",
      "Date\n",
      "2015-01-14    23.575071\n",
      "2015-11-03    20.050486\n",
      "2015-01-25     9.857958\n",
      "2015-11-02     9.370787\n",
      "2015-01-21     8.689591\n",
      "2015-02-12     8.163909\n",
      "2015-01-17     7.132711\n",
      "2015-11-26     7.076923\n",
      "2015-11-12     7.002259\n",
      "2015-02-26     6.947368\n",
      "Name: Returns, dtype: float64\n",
      "2016 ------------------------------\n",
      "Full year return 124%\n",
      "top 10 days return 113%\n",
      "Return if miss 10 top days 5%\n",
      "10 best days\n",
      "Date\n",
      "2016-06-12    11.844175\n",
      "2016-05-28    11.086776\n",
      "2016-06-16    10.133183\n",
      "2016-08-03     9.705665\n",
      "2016-01-20     7.835525\n",
      "2016-06-23     6.313729\n",
      "2016-06-24     5.773850\n",
      "2016-06-13     5.598285\n",
      "2016-01-07     5.330238\n",
      "2016-06-30     5.243358\n",
      "Name: Returns, dtype: float64\n",
      "2017 ------------------------------\n",
      "Full year return 1,376%\n",
      "top 10 days return 313%\n",
      "Return if miss 10 top days 258%\n",
      "10 best days\n",
      "Date\n",
      "2017-07-20    27.968576\n",
      "2017-12-07    21.866893\n",
      "2017-11-13    14.588558\n",
      "2017-12-06    13.996346\n",
      "2017-09-15    13.695360\n",
      "2017-12-26    13.315506\n",
      "2017-12-11    12.725867\n",
      "2017-07-17    12.707507\n",
      "2017-08-05    11.979185\n",
      "2017-10-12    10.491678\n",
      "Name: Returns, dtype: float64\n",
      "2018 ------------------------------\n",
      "Full year return -51%\n",
      "top 10 days return 147%\n",
      "Return if miss 10 top days -80%\n",
      "10 best days\n",
      "Date\n",
      "2018-01-20    13.380270\n",
      "2018-01-05    12.992426\n",
      "2018-02-06    12.382503\n",
      "2018-03-11    11.609815\n",
      "2018-01-02     8.642151\n",
      "2018-02-14     8.570432\n",
      "2018-02-17     7.058542\n",
      "2018-02-15     6.883191\n",
      "2018-03-20     6.834436\n",
      "2018-02-26     6.724114\n",
      "Name: Returns, dtype: float64\n",
      "['2012-02-22', '2012-03-12', '2012-08-15', '2012-02-01', '2012-08-16', '2012-01-05', '2012-08-02', '2012-01-04', '2012-08-26', '2012-07-16', '2013-11-20', '2013-03-05', '2013-05-03', '2013-12-08', '2013-03-18', '2013-04-18', '2013-11-17', '2013-04-02', '2013-04-08', '2013-04-12', '2014-05-19', '2014-05-31', '2014-01-04', '2014-10-08', '2014-05-24', '2014-02-25', '2014-04-13', '2014-10-05', '2014-11-11', '2014-03-02', '2015-02-26', '2015-11-12', '2015-11-26', '2015-01-17', '2015-02-12', '2015-01-21', '2015-11-02', '2015-01-25', '2015-11-03', '2015-01-14', '2016-06-30', '2016-01-07', '2016-06-13', '2016-06-24', '2016-06-23', '2016-01-20', '2016-08-03', '2016-06-16', '2016-05-28', '2016-06-12', '2017-10-12', '2017-08-05', '2017-07-17', '2017-12-11', '2017-12-26', '2017-09-15', '2017-12-06', '2017-11-13', '2017-12-07', '2017-07-20', '2018-02-26', '2018-03-20', '2018-02-15', '2018-02-17', '2018-02-14', '2018-01-02', '2018-03-11', '2018-02-06', '2018-01-05', '2018-01-20']\n"
     ]
    }
   ],
   "source": [
    "# Go through each year, find the top 10 days, then calculate returns with and without\n",
    "\n",
    "dates = []\n",
    "\n",
    "data_annual['MissTop10'] = 0.0\n",
    "data_annual['MissTop5'] = 0.0\n",
    "\n",
    "for year, frame in returns_by_year:\n",
    "    \n",
    "    full_return = (frame['Returns'] + 1).cumprod()[-1] - 1\n",
    "    top10 = frame['Returns'].sort_values()[-10:]\n",
    "    top5 = top10[-5:]\n",
    "    top10_return = (top10 + 1).cumprod()[-1] - 1\n",
    "    top5_return = (top5 + 1).cumprod()[-1] - 1\n",
    "    full_less_top10_return = ((1 + full_return) / (1 + top10_return)) - 1\n",
    "    full_less_top5_return = ((1 + full_return) / (1 + top5_return)) - 1\n",
    "    \n",
    "    data_annual.loc[year, 'MissTop10'] = full_less_top10_return * 100\n",
    "    data_annual.loc[year, 'MissTop5'] = full_less_top5_return * 100\n",
    "    \n",
    "    print year, '-' * 30 \n",
    "    # print top10.index\n",
    "    if year >= 2012:\n",
    "        dates += list(top10.index.astype(str))\n",
    "    print \"Full year return {:,.0f}%\".format(full_return * 100 )\n",
    "    print \"top 10 days return {:,.0f}%\".format(top10_return * 100)\n",
    "    print \"Return if miss 10 top days {:,.0f}%\".format(full_less_top10_return * 100)\n",
    "    #if year in [2017]:\n",
    "    print \"10 best days\"\n",
    "    print top10[::-1] * 100\n",
    "\n",
    "print(dates)"
   ]
  },
  {
   "cell_type": "code",
   "execution_count": 65,
   "metadata": {},
   "outputs": [
    {
     "data": {
      "text/html": [
       "<div>\n",
       "<style scoped>\n",
       "    .dataframe tbody tr th:only-of-type {\n",
       "        vertical-align: middle;\n",
       "    }\n",
       "\n",
       "    .dataframe tbody tr th {\n",
       "        vertical-align: top;\n",
       "    }\n",
       "\n",
       "    .dataframe thead th {\n",
       "        text-align: right;\n",
       "    }\n",
       "</style>\n",
       "<table border=\"1\" class=\"dataframe\">\n",
       "  <thead>\n",
       "    <tr style=\"text-align: right;\">\n",
       "      <th></th>\n",
       "      <th>Value</th>\n",
       "      <th>Returns</th>\n",
       "      <th>MissTop10</th>\n",
       "      <th>MissTop5</th>\n",
       "    </tr>\n",
       "    <tr>\n",
       "      <th></th>\n",
       "      <th></th>\n",
       "      <th></th>\n",
       "      <th></th>\n",
       "      <th></th>\n",
       "    </tr>\n",
       "  </thead>\n",
       "  <tbody>\n",
       "    <tr>\n",
       "      <th>2011</th>\n",
       "      <td>5.200</td>\n",
       "      <td>1633.344889</td>\n",
       "      <td>-51.706494</td>\n",
       "      <td>83.410366</td>\n",
       "    </tr>\n",
       "    <tr>\n",
       "      <th>2012</th>\n",
       "      <td>13.561</td>\n",
       "      <td>160.788462</td>\n",
       "      <td>-13.849582</td>\n",
       "      <td>36.267335</td>\n",
       "    </tr>\n",
       "    <tr>\n",
       "      <th>2013</th>\n",
       "      <td>746.900</td>\n",
       "      <td>5407.705921</td>\n",
       "      <td>513.529183</td>\n",
       "      <td>1392.509398</td>\n",
       "    </tr>\n",
       "    <tr>\n",
       "      <th>2014</th>\n",
       "      <td>315.700</td>\n",
       "      <td>-57.731959</td>\n",
       "      <td>-86.135490</td>\n",
       "      <td>-78.457498</td>\n",
       "    </tr>\n",
       "    <tr>\n",
       "      <th>2015</th>\n",
       "      <td>429.340</td>\n",
       "      <td>35.996199</td>\n",
       "      <td>-50.563494</td>\n",
       "      <td>-29.804194</td>\n",
       "    </tr>\n",
       "    <tr>\n",
       "      <th>2016</th>\n",
       "      <td>959.870</td>\n",
       "      <td>123.568733</td>\n",
       "      <td>4.918951</td>\n",
       "      <td>38.110350</td>\n",
       "    </tr>\n",
       "    <tr>\n",
       "      <th>2017</th>\n",
       "      <td>14165.575</td>\n",
       "      <td>1375.780574</td>\n",
       "      <td>257.705112</td>\n",
       "      <td>537.173617</td>\n",
       "    </tr>\n",
       "  </tbody>\n",
       "</table>\n",
       "</div>"
      ],
      "text/plain": [
       "          Value      Returns   MissTop10     MissTop5\n",
       "                                                     \n",
       "2011      5.200  1633.344889  -51.706494    83.410366\n",
       "2012     13.561   160.788462  -13.849582    36.267335\n",
       "2013    746.900  5407.705921  513.529183  1392.509398\n",
       "2014    315.700   -57.731959  -86.135490   -78.457498\n",
       "2015    429.340    35.996199  -50.563494   -29.804194\n",
       "2016    959.870   123.568733    4.918951    38.110350\n",
       "2017  14165.575  1375.780574  257.705112   537.173617"
      ]
     },
     "execution_count": 65,
     "metadata": {},
     "output_type": "execute_result"
    }
   ],
   "source": [
    "# View the results\n",
    "data_annual.dropna(inplace = True)\n",
    "data_annual.head(10)"
   ]
  },
  {
   "cell_type": "code",
   "execution_count": 66,
   "metadata": {},
   "outputs": [
    {
     "data": {
      "image/png": "[encoded data removed]",
      "text/plain": [
       "<matplotlib.figure.Figure at 0x11be79850>"
      ]
     },
     "metadata": {},
     "output_type": "display_data"
    }
   ],
   "source": [
    "# Chart the results\n",
    "ax = data_annual[['Returns','MissTop10']].plot(kind='bar', figsize=(12,8), width = 0.8)\n",
    "ax.legend([\"Fully invested\", \"Miss Top 10\"]);\n",
    "for p in ax.patches:\n",
    "    b = p.get_bbox()\n",
    "    val = \"{:,.0f}%\".format(b.y1 + b.y0)        \n",
    "    ax.annotate(val,((b.x0 + b.x1) / 2 + len(val) * -0.03, b.y1 + 110))\n"
   ]
  },
  {
   "cell_type": "code",
   "execution_count": 79,
   "metadata": {},
   "outputs": [
    {
     "name": "stdout",
     "output_type": "stream",
     "text": [
      "Total returns\n",
      "-------------------------\n",
      "Fully invested since start 2011 4,721,790%\n",
      "Missed top 10 each year -34%\n",
      "Missed top 5 each year 4,864%\n",
      "\n",
      "Compound annual returns\n",
      "-------------------------\n",
      "Fully invested since start 2011 365.3%\n",
      "Missed top 10 each year -5.8%\n",
      "Missed top 5 each year 74.7%\n"
     ]
    }
   ],
   "source": [
    "# Calculate total returns for period and compound annual returns\n",
    "print \"Total returns\"\n",
    "print \"-\" * 25\n",
    "print \"Fully invested since start 2011 {:,.0f}%\".format((((data_annual['Returns'] / 100 + 1).cumprod().iloc[-1])- 1) * 100)\n",
    "print \"Missed top 10 each year {:,.0f}%\".format((((data_annual['MissTop10'] / 100 + 1).cumprod().iloc[-1]) - 1) * 100)\n",
    "print \"Missed top 5 each year {:,.0f}%\".format((((data_annual['MissTop5'] / 100 + 1).cumprod().iloc[-1])- 1) * 100)\n",
    "print\n",
    "print \"Compound annual returns\"\n",
    "print \"-\" * 25\n",
    "print \"Fully invested since start 2011 {:,.1f}%\".format((((data_annual['Returns'] / 100 + 1).cumprod().iloc[-1]) ** (1.0/len(data_annual)) - 1) * 100)\n",
    "print \"Missed top 10 each year {:,.1f}%\".format((((data_annual['MissTop10'] / 100 + 1).cumprod().iloc[-1]) ** (1.0/len(data_annual)) - 1) * 100)\n",
    "print \"Missed top 5 each year {:,.1f}%\".format((((data_annual['MissTop5'] / 100 + 1).cumprod().iloc[-1]) ** (1.0/len(data_annual)) - 1) * 100)"
   ]
  },
  {
   "cell_type": "code",
   "execution_count": 70,
   "metadata": {},
   "outputs": [
    {
     "name": "stdout",
     "output_type": "stream",
     "text": [
      "13.561 746.9\n",
      "5407.7059213922275\n",
      "5407.705921392224\n",
      "Date\n",
      "2012-12-25    13.39890\n",
      "2012-12-26    13.47000\n",
      "2012-12-27    13.64990\n",
      "2012-12-28    13.67000\n",
      "2012-12-29    13.56998\n",
      "2012-12-30    13.59000\n",
      "2012-12-31    13.56100\n",
      "2013-01-01    13.40000\n",
      "2013-01-02    13.46400\n",
      "2013-01-03    13.48986\n",
      "2013-01-04    13.54800\n",
      "2013-01-05    13.52999\n",
      "Name: Value, dtype: float64\n",
      "Date\n",
      "2013-12-25    734.42\n",
      "2013-12-26    715.51\n",
      "2013-12-27    701.61\n",
      "2013-12-28    714.79\n",
      "2013-12-29    739.10\n",
      "2013-12-30    731.00\n",
      "2013-12-31    746.90\n",
      "2014-01-01    758.01\n",
      "2014-01-02    806.21\n",
      "2014-01-03    822.38\n",
      "2014-01-04    896.00\n",
      "2014-01-05    934.21\n",
      "Name: Value, dtype: float64\n",
      "0.299998 14165.575\n",
      "4721789.812598752\n",
      "4721789.81259875\n"
     ]
    }
   ],
   "source": [
    "# sanity check on 2013 returns\n",
    "start, end = data.loc['2012-12-31','Value'], data.loc['2013-12-31','Value']\n",
    "print start, end\n",
    "print (end / start - 1) * 100\n",
    "print ((data.loc['2013-1-1':'2013-12-31','Returns'] + 1).cumprod()[-1] - 1) * 100\n",
    "\n",
    "# check prices a few days before and after\n",
    "print data.loc['2012-12-25':'2013-01-5','Value']\n",
    "print data.loc['2013-12-25':'2014-01-5','Value']\n",
    "\n",
    "# sanity check on total returns\n",
    "start, end = data.loc['2010-12-31','Value'], data.loc['2017-12-31','Value']\n",
    "print start, end\n",
    "print (end / start - 1) * 100\n",
    "print ((data.loc['2011-1-1':'2017-12-31','Returns'] + 1).cumprod()[-1] - 1) * 100"
   ]
  },
  {
   "cell_type": "code",
   "execution_count": 71,
   "metadata": {},
   "outputs": [],
   "source": [
    "stats = returns_by_year.describe().drop(columns=['Value'], axis = 1)"
   ]
  },
  {
   "cell_type": "code",
   "execution_count": 72,
   "metadata": {},
   "outputs": [],
   "source": [
    "stats.columns = [u'count', u'mean', u'std', u'min', u'25%', u'50%', u'75%', u'max']"
   ]
  },
  {
   "cell_type": "code",
   "execution_count": 73,
   "metadata": {},
   "outputs": [
    {
     "data": {
      "text/html": [
       "<div>\n",
       "<style scoped>\n",
       "    .dataframe tbody tr th:only-of-type {\n",
       "        vertical-align: middle;\n",
       "    }\n",
       "\n",
       "    .dataframe tbody tr th {\n",
       "        vertical-align: top;\n",
       "    }\n",
       "\n",
       "    .dataframe thead th {\n",
       "        text-align: right;\n",
       "    }\n",
       "</style>\n",
       "<table border=\"1\" class=\"dataframe\">\n",
       "  <thead>\n",
       "    <tr style=\"text-align: right;\">\n",
       "      <th></th>\n",
       "      <th>count</th>\n",
       "      <th>mean</th>\n",
       "      <th>std</th>\n",
       "      <th>min</th>\n",
       "      <th>25%</th>\n",
       "      <th>50%</th>\n",
       "      <th>75%</th>\n",
       "      <th>max</th>\n",
       "      <th>skew</th>\n",
       "    </tr>\n",
       "  </thead>\n",
       "  <tbody>\n",
       "    <tr>\n",
       "      <th>2010</th>\n",
       "      <td>136.0</td>\n",
       "      <td>0.024930</td>\n",
       "      <td>0.201400</td>\n",
       "      <td>-0.646286</td>\n",
       "      <td>-0.016380</td>\n",
       "      <td>0.000000</td>\n",
       "      <td>0.019319</td>\n",
       "      <td>1.730109</td>\n",
       "      <td>0.371343</td>\n",
       "    </tr>\n",
       "    <tr>\n",
       "      <th>2011</th>\n",
       "      <td>365.0</td>\n",
       "      <td>0.012189</td>\n",
       "      <td>0.102492</td>\n",
       "      <td>-0.228715</td>\n",
       "      <td>-0.031291</td>\n",
       "      <td>-0.007201</td>\n",
       "      <td>0.027983</td>\n",
       "      <td>0.900000</td>\n",
       "      <td>0.567564</td>\n",
       "    </tr>\n",
       "    <tr>\n",
       "      <th>2012</th>\n",
       "      <td>366.0</td>\n",
       "      <td>0.003167</td>\n",
       "      <td>0.033017</td>\n",
       "      <td>-0.213638</td>\n",
       "      <td>-0.009172</td>\n",
       "      <td>0.000000</td>\n",
       "      <td>0.012097</td>\n",
       "      <td>0.144767</td>\n",
       "      <td>0.287733</td>\n",
       "    </tr>\n",
       "    <tr>\n",
       "      <th>2013</th>\n",
       "      <td>365.0</td>\n",
       "      <td>0.013870</td>\n",
       "      <td>0.074678</td>\n",
       "      <td>-0.380167</td>\n",
       "      <td>-0.011880</td>\n",
       "      <td>0.009049</td>\n",
       "      <td>0.038661</td>\n",
       "      <td>0.431597</td>\n",
       "      <td>0.193670</td>\n",
       "    </tr>\n",
       "    <tr>\n",
       "      <th>2014</th>\n",
       "      <td>365.0</td>\n",
       "      <td>-0.001677</td>\n",
       "      <td>0.037173</td>\n",
       "      <td>-0.130463</td>\n",
       "      <td>-0.019533</td>\n",
       "      <td>-0.001610</td>\n",
       "      <td>0.013322</td>\n",
       "      <td>0.190434</td>\n",
       "      <td>-0.005387</td>\n",
       "    </tr>\n",
       "    <tr>\n",
       "      <th>2015</th>\n",
       "      <td>365.0</td>\n",
       "      <td>0.001485</td>\n",
       "      <td>0.035803</td>\n",
       "      <td>-0.235567</td>\n",
       "      <td>-0.009617</td>\n",
       "      <td>0.001043</td>\n",
       "      <td>0.013704</td>\n",
       "      <td>0.235751</td>\n",
       "      <td>0.037055</td>\n",
       "    </tr>\n",
       "    <tr>\n",
       "      <th>2016</th>\n",
       "      <td>366.0</td>\n",
       "      <td>0.002513</td>\n",
       "      <td>0.024943</td>\n",
       "      <td>-0.150515</td>\n",
       "      <td>-0.004369</td>\n",
       "      <td>0.001934</td>\n",
       "      <td>0.009971</td>\n",
       "      <td>0.118442</td>\n",
       "      <td>0.069694</td>\n",
       "    </tr>\n",
       "    <tr>\n",
       "      <th>2017</th>\n",
       "      <td>365.0</td>\n",
       "      <td>0.008573</td>\n",
       "      <td>0.048811</td>\n",
       "      <td>-0.161979</td>\n",
       "      <td>-0.010423</td>\n",
       "      <td>0.008752</td>\n",
       "      <td>0.032550</td>\n",
       "      <td>0.279686</td>\n",
       "      <td>-0.011018</td>\n",
       "    </tr>\n",
       "    <tr>\n",
       "      <th>2018</th>\n",
       "      <td>101.0</td>\n",
       "      <td>-0.005212</td>\n",
       "      <td>0.060226</td>\n",
       "      <td>-0.202052</td>\n",
       "      <td>-0.039201</td>\n",
       "      <td>0.003159</td>\n",
       "      <td>0.025344</td>\n",
       "      <td>0.133803</td>\n",
       "      <td>-0.416999</td>\n",
       "    </tr>\n",
       "  </tbody>\n",
       "</table>\n",
       "</div>"
      ],
      "text/plain": [
       "      count      mean       std       min       25%       50%       75%  \\\n",
       "2010  136.0  0.024930  0.201400 -0.646286 -0.016380  0.000000  0.019319   \n",
       "2011  365.0  0.012189  0.102492 -0.228715 -0.031291 -0.007201  0.027983   \n",
       "2012  366.0  0.003167  0.033017 -0.213638 -0.009172  0.000000  0.012097   \n",
       "2013  365.0  0.013870  0.074678 -0.380167 -0.011880  0.009049  0.038661   \n",
       "2014  365.0 -0.001677  0.037173 -0.130463 -0.019533 -0.001610  0.013322   \n",
       "2015  365.0  0.001485  0.035803 -0.235567 -0.009617  0.001043  0.013704   \n",
       "2016  366.0  0.002513  0.024943 -0.150515 -0.004369  0.001934  0.009971   \n",
       "2017  365.0  0.008573  0.048811 -0.161979 -0.010423  0.008752  0.032550   \n",
       "2018  101.0 -0.005212  0.060226 -0.202052 -0.039201  0.003159  0.025344   \n",
       "\n",
       "           max      skew  \n",
       "2010  1.730109  0.371343  \n",
       "2011  0.900000  0.567564  \n",
       "2012  0.144767  0.287733  \n",
       "2013  0.431597  0.193670  \n",
       "2014  0.190434 -0.005387  \n",
       "2015  0.235751  0.037055  \n",
       "2016  0.118442  0.069694  \n",
       "2017  0.279686 -0.011018  \n",
       "2018  0.133803 -0.416999  "
      ]
     },
     "execution_count": 73,
     "metadata": {},
     "output_type": "execute_result"
    }
   ],
   "source": [
    "stats['skew'] = 3 * (stats['mean'] - stats['50%']) / stats['std'] # Pearson Median Skewness\n",
    "stats"
   ]
  },
  {
   "cell_type": "code",
   "execution_count": 74,
   "metadata": {},
   "outputs": [
    {
     "data": {
      "text/plain": [
       "[(2010, 5.004115483320167),\n",
       " (2011, 3.5927591004080996),\n",
       " (2012, 0.10892790283057956),\n",
       " (2013, -0.013816177281385686),\n",
       " (2014, 0.8033188638876836),\n",
       " (2015, 0.13548413153021976),\n",
       " (2016, -0.3676355846793451),\n",
       " (2017, 0.4004076979139101),\n",
       " (2018, -0.41592180494151687)]"
      ]
     },
     "execution_count": 74,
     "metadata": {},
     "output_type": "execute_result"
    }
   ],
   "source": [
    "# skew by year (3rd standardised moment)\n",
    "[(year, frame['Returns'].skew()) for year, frame in returns_by_year]"
   ]
  },
  {
   "cell_type": "code",
   "execution_count": 77,
   "metadata": {},
   "outputs": [
    {
     "data": {
      "text/html": [
       "<div>\n",
       "<style scoped>\n",
       "    .dataframe tbody tr th:only-of-type {\n",
       "        vertical-align: middle;\n",
       "    }\n",
       "\n",
       "    .dataframe tbody tr th {\n",
       "        vertical-align: top;\n",
       "    }\n",
       "\n",
       "    .dataframe thead th {\n",
       "        text-align: right;\n",
       "    }\n",
       "</style>\n",
       "<table border=\"1\" class=\"dataframe\">\n",
       "  <thead>\n",
       "    <tr style=\"text-align: right;\">\n",
       "      <th></th>\n",
       "      <th>Value</th>\n",
       "      <th>Returns</th>\n",
       "    </tr>\n",
       "    <tr>\n",
       "      <th>Date</th>\n",
       "      <th></th>\n",
       "      <th></th>\n",
       "    </tr>\n",
       "  </thead>\n",
       "  <tbody>\n",
       "    <tr>\n",
       "      <th>2017-12-06</th>\n",
       "      <td>13540.980000</td>\n",
       "      <td>0.139963</td>\n",
       "    </tr>\n",
       "    <tr>\n",
       "      <th>2017-12-07</th>\n",
       "      <td>16501.971667</td>\n",
       "      <td>0.218669</td>\n",
       "    </tr>\n",
       "    <tr>\n",
       "      <th>2017-12-08</th>\n",
       "      <td>16007.436667</td>\n",
       "      <td>-0.029968</td>\n",
       "    </tr>\n",
       "    <tr>\n",
       "      <th>2017-12-09</th>\n",
       "      <td>15142.834152</td>\n",
       "      <td>-0.054013</td>\n",
       "    </tr>\n",
       "    <tr>\n",
       "      <th>2017-12-10</th>\n",
       "      <td>14869.805000</td>\n",
       "      <td>-0.018030</td>\n",
       "    </tr>\n",
       "    <tr>\n",
       "      <th>2017-12-11</th>\n",
       "      <td>16762.116667</td>\n",
       "      <td>0.127259</td>\n",
       "    </tr>\n",
       "    <tr>\n",
       "      <th>2017-12-12</th>\n",
       "      <td>17276.393333</td>\n",
       "      <td>0.030681</td>\n",
       "    </tr>\n",
       "    <tr>\n",
       "      <th>2017-12-13</th>\n",
       "      <td>16808.366667</td>\n",
       "      <td>-0.027091</td>\n",
       "    </tr>\n",
       "    <tr>\n",
       "      <th>2017-12-14</th>\n",
       "      <td>16678.892000</td>\n",
       "      <td>-0.007703</td>\n",
       "    </tr>\n",
       "    <tr>\n",
       "      <th>2017-12-15</th>\n",
       "      <td>17771.900000</td>\n",
       "      <td>0.065532</td>\n",
       "    </tr>\n",
       "  </tbody>\n",
       "</table>\n",
       "</div>"
      ],
      "text/plain": [
       "                   Value   Returns\n",
       "Date                              \n",
       "2017-12-06  13540.980000  0.139963\n",
       "2017-12-07  16501.971667  0.218669\n",
       "2017-12-08  16007.436667 -0.029968\n",
       "2017-12-09  15142.834152 -0.054013\n",
       "2017-12-10  14869.805000 -0.018030\n",
       "2017-12-11  16762.116667  0.127259\n",
       "2017-12-12  17276.393333  0.030681\n",
       "2017-12-13  16808.366667 -0.027091\n",
       "2017-12-14  16678.892000 -0.007703\n",
       "2017-12-15  17771.900000  0.065532"
      ]
     },
     "execution_count": 77,
     "metadata": {},
     "output_type": "execute_result"
    }
   ],
   "source": [
    "data.loc['2017-12-06':].head(10)"
   ]
  }
 ],
 "metadata": {
  "kernelspec": {
   "display_name": "Python 2",
   "language": "python",
   "name": "python2"
  },
  "language_info": {
   "codemirror_mode": {
    "name": "ipython",
    "version": 2
   },
   "file_extension": ".py",
   "mimetype": "text/x-python",
   "name": "python",
   "nbconvert_exporter": "python",
   "pygments_lexer": "ipython2",
   "version": "2.7.14"
  }
 },
 "nbformat": 4,
 "nbformat_minor": 2
}
