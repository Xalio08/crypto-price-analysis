{
 "cells": [
  {
   "cell_type": "markdown",
   "metadata": {},
   "source": [
    "## <center>inspired by this tweet https://twitter.com/MEKhoko/status/981868845794283520</center>\n",
    "\n",
    "<img src=\"fundstrat.jpg\">"
   ]
  },
  {
   "cell_type": "code",
   "execution_count": 2,
   "metadata": {},
   "outputs": [],
   "source": [
    "# Imports\n",
    "%matplotlib inline\n",
    "import quandl\n",
    "import numpy as np\n",
    "import pandas as pd\n",
    "import matplotlib.pyplot as plt"
   ]
  },
  {
   "cell_type": "code",
   "execution_count": 3,
   "metadata": {},
   "outputs": [],
   "source": [
    "# Get price data from Quandl\n",
    "data = quandl.get(\"BCHAIN/MKPRU\")"
   ]
  },
  {
   "cell_type": "code",
   "execution_count": 4,
   "metadata": {},
   "outputs": [
    {
     "data": {
      "text/html": [
       "<div>\n",
       "<style scoped>\n",
       "    .dataframe tbody tr th:only-of-type {\n",
       "        vertical-align: middle;\n",
       "    }\n",
       "\n",
       "    .dataframe tbody tr th {\n",
       "        vertical-align: top;\n",
       "    }\n",
       "\n",
       "    .dataframe thead th {\n",
       "        text-align: right;\n",
       "    }\n",
       "</style>\n",
       "<table border=\"1\" class=\"dataframe\">\n",
       "  <thead>\n",
       "    <tr style=\"text-align: right;\">\n",
       "      <th></th>\n",
       "      <th>Value</th>\n",
       "    </tr>\n",
       "    <tr>\n",
       "      <th>Date</th>\n",
       "      <th></th>\n",
       "    </tr>\n",
       "  </thead>\n",
       "  <tbody>\n",
       "    <tr>\n",
       "      <th>2009-01-03</th>\n",
       "      <td>0.0</td>\n",
       "    </tr>\n",
       "    <tr>\n",
       "      <th>2009-01-04</th>\n",
       "      <td>0.0</td>\n",
       "    </tr>\n",
       "    <tr>\n",
       "      <th>2009-01-05</th>\n",
       "      <td>0.0</td>\n",
       "    </tr>\n",
       "    <tr>\n",
       "      <th>2009-01-06</th>\n",
       "      <td>0.0</td>\n",
       "    </tr>\n",
       "    <tr>\n",
       "      <th>2009-01-07</th>\n",
       "      <td>0.0</td>\n",
       "    </tr>\n",
       "  </tbody>\n",
       "</table>\n",
       "</div>"
      ],
      "text/plain": [
       "            Value\n",
       "Date             \n",
       "2009-01-03    0.0\n",
       "2009-01-04    0.0\n",
       "2009-01-05    0.0\n",
       "2009-01-06    0.0\n",
       "2009-01-07    0.0"
      ]
     },
     "execution_count": 4,
     "metadata": {},
     "output_type": "execute_result"
    }
   ],
   "source": [
    "# Take a look\n",
    "data.head()"
   ]
  },
  {
   "cell_type": "code",
   "execution_count": 5,
   "metadata": {},
   "outputs": [
    {
     "data": {
      "text/html": [
       "<div>\n",
       "<style scoped>\n",
       "    .dataframe tbody tr th:only-of-type {\n",
       "        vertical-align: middle;\n",
       "    }\n",
       "\n",
       "    .dataframe tbody tr th {\n",
       "        vertical-align: top;\n",
       "    }\n",
       "\n",
       "    .dataframe thead th {\n",
       "        text-align: right;\n",
       "    }\n",
       "</style>\n",
       "<table border=\"1\" class=\"dataframe\">\n",
       "  <thead>\n",
       "    <tr style=\"text-align: right;\">\n",
       "      <th></th>\n",
       "      <th>Value</th>\n",
       "    </tr>\n",
       "    <tr>\n",
       "      <th>Date</th>\n",
       "      <th></th>\n",
       "    </tr>\n",
       "  </thead>\n",
       "  <tbody>\n",
       "    <tr>\n",
       "      <th>2010-08-17</th>\n",
       "      <td>0.076900</td>\n",
       "    </tr>\n",
       "    <tr>\n",
       "      <th>2010-08-18</th>\n",
       "      <td>0.074000</td>\n",
       "    </tr>\n",
       "    <tr>\n",
       "      <th>2010-08-19</th>\n",
       "      <td>0.068800</td>\n",
       "    </tr>\n",
       "    <tr>\n",
       "      <th>2010-08-20</th>\n",
       "      <td>0.066700</td>\n",
       "    </tr>\n",
       "    <tr>\n",
       "      <th>2010-08-21</th>\n",
       "      <td>0.066899</td>\n",
       "    </tr>\n",
       "  </tbody>\n",
       "</table>\n",
       "</div>"
      ],
      "text/plain": [
       "               Value\n",
       "Date                \n",
       "2010-08-17  0.076900\n",
       "2010-08-18  0.074000\n",
       "2010-08-19  0.068800\n",
       "2010-08-20  0.066700\n",
       "2010-08-21  0.066899"
      ]
     },
     "execution_count": 5,
     "metadata": {},
     "output_type": "execute_result"
    }
   ],
   "source": [
    "# See where the 0's end\n",
    "data.loc[data['Value'] > 0].head()"
   ]
  },
  {
   "cell_type": "code",
   "execution_count": 6,
   "metadata": {},
   "outputs": [],
   "source": [
    "# Remove the 0's\n",
    "data = data.loc['2010-08-17':]"
   ]
  },
  {
   "cell_type": "code",
   "execution_count": 7,
   "metadata": {},
   "outputs": [
    {
     "data": {
      "text/html": [
       "<div>\n",
       "<style scoped>\n",
       "    .dataframe tbody tr th:only-of-type {\n",
       "        vertical-align: middle;\n",
       "    }\n",
       "\n",
       "    .dataframe tbody tr th {\n",
       "        vertical-align: top;\n",
       "    }\n",
       "\n",
       "    .dataframe thead th {\n",
       "        text-align: right;\n",
       "    }\n",
       "</style>\n",
       "<table border=\"1\" class=\"dataframe\">\n",
       "  <thead>\n",
       "    <tr style=\"text-align: right;\">\n",
       "      <th></th>\n",
       "      <th>Value</th>\n",
       "    </tr>\n",
       "    <tr>\n",
       "      <th>Date</th>\n",
       "      <th></th>\n",
       "    </tr>\n",
       "  </thead>\n",
       "  <tbody>\n",
       "    <tr>\n",
       "      <th>2010-08-17</th>\n",
       "      <td>0.076900</td>\n",
       "    </tr>\n",
       "    <tr>\n",
       "      <th>2010-08-18</th>\n",
       "      <td>0.074000</td>\n",
       "    </tr>\n",
       "    <tr>\n",
       "      <th>2010-08-19</th>\n",
       "      <td>0.068800</td>\n",
       "    </tr>\n",
       "    <tr>\n",
       "      <th>2010-08-20</th>\n",
       "      <td>0.066700</td>\n",
       "    </tr>\n",
       "    <tr>\n",
       "      <th>2010-08-21</th>\n",
       "      <td>0.066899</td>\n",
       "    </tr>\n",
       "  </tbody>\n",
       "</table>\n",
       "</div>"
      ],
      "text/plain": [
       "               Value\n",
       "Date                \n",
       "2010-08-17  0.076900\n",
       "2010-08-18  0.074000\n",
       "2010-08-19  0.068800\n",
       "2010-08-20  0.066700\n",
       "2010-08-21  0.066899"
      ]
     },
     "execution_count": 7,
     "metadata": {},
     "output_type": "execute_result"
    }
   ],
   "source": [
    "# Look again\n",
    "data.head()"
   ]
  },
  {
   "cell_type": "code",
   "execution_count": 8,
   "metadata": {},
   "outputs": [
    {
     "name": "stdout",
     "output_type": "stream",
     "text": [
      "<class 'pandas.core.frame.DataFrame'>\n",
      "DatetimeIndex: 2795 entries, 2010-08-17 to 2018-04-11\n",
      "Data columns (total 1 columns):\n",
      "Value    2795 non-null float64\n",
      "dtypes: float64(1)\n",
      "memory usage: 43.7 KB\n"
     ]
    }
   ],
   "source": [
    "# Summary, no. of rows looks correct\n",
    "data.info()"
   ]
  },
  {
   "cell_type": "code",
   "execution_count": 9,
   "metadata": {},
   "outputs": [
    {
     "data": {
      "text/plain": [
       "<matplotlib.axes._subplots.AxesSubplot at 0x1147b0650>"
      ]
     },
     "execution_count": 9,
     "metadata": {},
     "output_type": "execute_result"
    },
    {
     "data": {
      "image/png": "[encoded data removed]",
      "text/plain": [
       "<matplotlib.figure.Figure at 0x110c5d0d0>"
      ]
     },
     "metadata": {},
     "output_type": "display_data"
    }
   ],
   "source": [
    "# Visual check of price data\n",
    "data['Value'].plot(figsize=(12,8))"
   ]
  },
  {
   "cell_type": "code",
   "execution_count": 10,
   "metadata": {},
   "outputs": [
    {
     "data": {
      "text/plain": [
       "array([[<matplotlib.axes._subplots.AxesSubplot object at 0x11a5bbd10>,\n",
       "        <matplotlib.axes._subplots.AxesSubplot object at 0x11a613650>,\n",
       "        <matplotlib.axes._subplots.AxesSubplot object at 0x11a65e610>],\n",
       "       [<matplotlib.axes._subplots.AxesSubplot object at 0x11a672090>,\n",
       "        <matplotlib.axes._subplots.AxesSubplot object at 0x11a6e7110>,\n",
       "        <matplotlib.axes._subplots.AxesSubplot object at 0x11a728a90>],\n",
       "       [<matplotlib.axes._subplots.AxesSubplot object at 0x11a773a50>,\n",
       "        <matplotlib.axes._subplots.AxesSubplot object at 0x11a7c1410>,\n",
       "        <matplotlib.axes._subplots.AxesSubplot object at 0x11a7f2e90>]],\n",
       "      dtype=object)"
      ]
     },
     "execution_count": 10,
     "metadata": {},
     "output_type": "execute_result"
    },
    {
     "data": {
      "image/png": "[encoded data removed]",
      "text/plain": [
       "<matplotlib.figure.Figure at 0x11a5bb4d0>"
      ]
     },
     "metadata": {},
     "output_type": "display_data"
    }
   ],
   "source": [
    "# Freq plot by year showing distribution of returns\n",
    "(data.pct_change() * 100).hist(bins=100, figsize = (12,10), by = lambda x: x.year)"
   ]
  },
  {
   "cell_type": "code",
   "execution_count": 11,
   "metadata": {},
   "outputs": [
    {
     "name": "stdout",
     "output_type": "stream",
     "text": [
      "Worst--------------------\n",
      "Date\n",
      "2010-09-16   -64.628571\n",
      "2013-04-12   -38.016700\n",
      "2013-04-11   -37.676273\n",
      "2010-11-08   -25.999852\n",
      "2010-10-12   -23.904689\n",
      "2015-01-14   -23.556672\n",
      "2011-10-18   -22.871520\n",
      "2012-08-19   -21.363762\n",
      "2010-10-25   -21.052632\n",
      "2010-11-10   -20.813539\n",
      "Name: Value, dtype: float64\n",
      "Best--------------------\n",
      "Date\n",
      "2010-09-15    173.010920\n",
      "2011-02-01     90.000000\n",
      "2010-10-24     74.295936\n",
      "2010-11-07     72.413448\n",
      "2011-06-08     67.418153\n",
      "2011-04-30     53.702222\n",
      "2013-04-13     43.159698\n",
      "2011-05-13     42.017284\n",
      "2010-11-03     40.664962\n",
      "2010-10-08     37.931034\n",
      "Name: Value, dtype: float64\n"
     ]
    }
   ],
   "source": [
    "# Best and worst days from entire data set\n",
    "print \"Worst\" + \"-\" * 20\n",
    "print((data['Value'].pct_change() * 100).dropna().sort_values().head(10).sort_values())\n",
    "print \"Best\" + \"-\" * 20\n",
    "print((data['Value'].pct_change() * 100).dropna().sort_values().tail(10).sort_values(ascending = False))"
   ]
  },
  {
   "cell_type": "code",
   "execution_count": 12,
   "metadata": {},
   "outputs": [],
   "source": [
    "# Group by year, calculate yearly returns, drop years without full year of data\n",
    "data_annual = data.asfreq(\"Y\")\n",
    "data_annual['Returns'] = data_annual['Value'].pct_change() * 100\n",
    "data_annual.index = data_annual.index.year\n",
    "data_annual.dropna(inplace=True)"
   ]
  },
  {
   "cell_type": "code",
   "execution_count": 13,
   "metadata": {},
   "outputs": [
    {
     "data": {
      "text/plain": [
       "Date\n",
       "2011    1565.005550\n",
       "2012     172.072072\n",
       "2013    5278.955114\n",
       "2014     -56.580027\n",
       "2015      34.845621\n",
       "2016     122.464953\n",
       "2017    1287.971853\n",
       "Name: Returns, dtype: float64"
      ]
     },
     "execution_count": 13,
     "metadata": {},
     "output_type": "execute_result"
    }
   ],
   "source": [
    "# Take a look at results\n",
    "data_annual['Returns'].head(10)"
   ]
  },
  {
   "cell_type": "code",
   "execution_count": 14,
   "metadata": {},
   "outputs": [
    {
     "data": {
      "image/png": "[encoded data removed]",
      "text/plain": [
       "<matplotlib.figure.Figure at 0x114719b90>"
      ]
     },
     "metadata": {},
     "output_type": "display_data"
    }
   ],
   "source": [
    "# Chart the results\n",
    "colors = np.sign(data_annual['Returns']).map({1 : 'g', -1 : 'r'}).values\n",
    "data_annual.index.name = '' # Don't want to show 'Date' as a label on chart\n",
    "ax = data_annual['Returns'].plot(kind='bar', figsize=(12,8),color = colors)\n",
    "ax.legend([\"Fully invested\"]);\n",
    "for p in ax.patches:\n",
    "    b = p.get_bbox()\n",
    "    val = \"{:,.0f}%\".format(b.y1 + b.y0)        \n",
    "    ax.annotate(val,((b.x0 + b.x1) / 2 + len(val) * -0.03, b.y1 + 110))"
   ]
  },
  {
   "cell_type": "code",
   "execution_count": 15,
   "metadata": {},
   "outputs": [],
   "source": [
    "# Back to daily data, calculate returns from prices and then group by year\n",
    "data['Returns'] = data['Value'].pct_change()\n",
    "data.dropna(inplace = True)\n",
    "returns_by_year = data.groupby(lambda x: x.year)"
   ]
  },
  {
   "cell_type": "code",
   "execution_count": 16,
   "metadata": {},
   "outputs": [
    {
     "name": "stdout",
     "output_type": "stream",
     "text": [
      "2010 ------------------------------\n",
      "Full year return 290%\n",
      "top 10 days return 4,403%\n",
      "Return if miss 10 top days -91%\n",
      "2011 ------------------------------\n",
      "Full year return 1,565%\n",
      "top 10 days return 3,489%\n",
      "Return if miss 10 top days -54%\n",
      "2012 ------------------------------\n",
      "Full year return 172%\n",
      "top 10 days return 203%\n",
      "Return if miss 10 top days -10%\n",
      "2013 ------------------------------\n",
      "Full year return 5,279%\n",
      "top 10 days return 798%\n",
      "Return if miss 10 top days 499%\n",
      "2014 ------------------------------\n",
      "Full year return -57%\n",
      "top 10 days return 205%\n",
      "Return if miss 10 top days -86%\n",
      "2015 ------------------------------\n",
      "Full year return 35%\n",
      "top 10 days return 175%\n",
      "Return if miss 10 top days -51%\n",
      "2016 ------------------------------\n",
      "Full year return 122%\n",
      "top 10 days return 113%\n",
      "Return if miss 10 top days 4%\n",
      "2017 ------------------------------\n",
      "Full year return 1,288%\n",
      "top 10 days return 313%\n",
      "Return if miss 10 top days 236%\n",
      "10 best days\n",
      "Date\n",
      "2017-07-21    27.968576\n",
      "2017-12-08    21.866893\n",
      "2017-11-14    14.588558\n",
      "2017-12-07    13.996346\n",
      "2017-09-16    13.695360\n",
      "2017-12-27    13.315506\n",
      "2017-12-12    12.725867\n",
      "2017-07-18    12.707507\n",
      "2017-08-06    11.979185\n",
      "2017-10-13    10.491678\n",
      "Name: Returns, dtype: float64\n",
      "2018 ------------------------------\n",
      "Full year return -49%\n",
      "top 10 days return 148%\n",
      "Return if miss 10 top days -79%\n"
     ]
    }
   ],
   "source": [
    "# Go through each year, find the top 10 days, then calculate returns with and without\n",
    "\n",
    "data_annual['MissTop10'] = 0.0\n",
    "data_annual['MissTop5'] = 0.0\n",
    "\n",
    "for year, frame in returns_by_year:\n",
    "    \n",
    "    full_return = (frame['Returns'] + 1).cumprod()[-1] - 1\n",
    "    top10 = frame['Returns'].sort_values()[-10:]\n",
    "    top5 = top10[-5:]\n",
    "    top10_return = (top10 + 1).cumprod()[-1] - 1\n",
    "    top5_return = (top5 + 1).cumprod()[-1] - 1\n",
    "    full_less_top10_return = ((1 + full_return) / (1 + top10_return)) - 1\n",
    "    full_less_top5_return = ((1 + full_return) / (1 + top5_return)) - 1\n",
    "    \n",
    "    data_annual.loc[year, 'MissTop10'] = full_less_top10_return * 100\n",
    "    data_annual.loc[year, 'MissTop5'] = full_less_top5_return * 100\n",
    "    \n",
    "    print year, '-' * 30 \n",
    "    print \"Full year return {:,.0f}%\".format(full_return * 100 )\n",
    "    print \"top 10 days return {:,.0f}%\".format(top10_return * 100)\n",
    "    print \"Return if miss 10 top days {:,.0f}%\".format(full_less_top10_return * 100)\n",
    "    if year == 2017:\n",
    "        print \"10 best days\"\n",
    "        print top10[::-1] * 100\n",
    "    \n",
    "    "
   ]
  },
  {
   "cell_type": "code",
   "execution_count": 17,
   "metadata": {},
   "outputs": [
    {
     "data": {
      "text/html": [
       "<div>\n",
       "<style scoped>\n",
       "    .dataframe tbody tr th:only-of-type {\n",
       "        vertical-align: middle;\n",
       "    }\n",
       "\n",
       "    .dataframe tbody tr th {\n",
       "        vertical-align: top;\n",
       "    }\n",
       "\n",
       "    .dataframe thead th {\n",
       "        text-align: right;\n",
       "    }\n",
       "</style>\n",
       "<table border=\"1\" class=\"dataframe\">\n",
       "  <thead>\n",
       "    <tr style=\"text-align: right;\">\n",
       "      <th></th>\n",
       "      <th>Value</th>\n",
       "      <th>Returns</th>\n",
       "      <th>MissTop10</th>\n",
       "      <th>MissTop5</th>\n",
       "    </tr>\n",
       "    <tr>\n",
       "      <th></th>\n",
       "      <th></th>\n",
       "      <th></th>\n",
       "      <th></th>\n",
       "      <th></th>\n",
       "    </tr>\n",
       "  </thead>\n",
       "  <tbody>\n",
       "    <tr>\n",
       "      <th>2011</th>\n",
       "      <td>4.995</td>\n",
       "      <td>1565.005550</td>\n",
       "      <td>-53.610527</td>\n",
       "      <td>76.179178</td>\n",
       "    </tr>\n",
       "    <tr>\n",
       "      <th>2012</th>\n",
       "      <td>13.590</td>\n",
       "      <td>172.072072</td>\n",
       "      <td>-10.122086</td>\n",
       "      <td>42.163253</td>\n",
       "    </tr>\n",
       "    <tr>\n",
       "      <th>2013</th>\n",
       "      <td>731.000</td>\n",
       "      <td>5278.955114</td>\n",
       "      <td>499.187027</td>\n",
       "      <td>1357.619774</td>\n",
       "    </tr>\n",
       "    <tr>\n",
       "      <th>2014</th>\n",
       "      <td>317.400</td>\n",
       "      <td>-56.580027</td>\n",
       "      <td>-85.757641</td>\n",
       "      <td>-77.870400</td>\n",
       "    </tr>\n",
       "    <tr>\n",
       "      <th>2015</th>\n",
       "      <td>428.000</td>\n",
       "      <td>34.845621</td>\n",
       "      <td>-50.981745</td>\n",
       "      <td>-30.398076</td>\n",
       "    </tr>\n",
       "    <tr>\n",
       "      <th>2016</th>\n",
       "      <td>952.150</td>\n",
       "      <td>122.464953</td>\n",
       "      <td>4.400957</td>\n",
       "      <td>37.428486</td>\n",
       "    </tr>\n",
       "    <tr>\n",
       "      <th>2017</th>\n",
       "      <td>13215.574</td>\n",
       "      <td>1287.971853</td>\n",
       "      <td>236.421711</td>\n",
       "      <td>499.261883</td>\n",
       "    </tr>\n",
       "  </tbody>\n",
       "</table>\n",
       "</div>"
      ],
      "text/plain": [
       "          Value      Returns   MissTop10     MissTop5\n",
       "                                                     \n",
       "2011      4.995  1565.005550  -53.610527    76.179178\n",
       "2012     13.590   172.072072  -10.122086    42.163253\n",
       "2013    731.000  5278.955114  499.187027  1357.619774\n",
       "2014    317.400   -56.580027  -85.757641   -77.870400\n",
       "2015    428.000    34.845621  -50.981745   -30.398076\n",
       "2016    952.150   122.464953    4.400957    37.428486\n",
       "2017  13215.574  1287.971853  236.421711   499.261883"
      ]
     },
     "execution_count": 17,
     "metadata": {},
     "output_type": "execute_result"
    }
   ],
   "source": [
    "# View the results\n",
    "data_annual.dropna(inplace = True)\n",
    "data_annual.head(10)"
   ]
  },
  {
   "cell_type": "code",
   "execution_count": 18,
   "metadata": {},
   "outputs": [
    {
     "data": {
      "image/png": "[encoded data removed]",
      "text/plain": [
       "<matplotlib.figure.Figure at 0x114800c10>"
      ]
     },
     "metadata": {},
     "output_type": "display_data"
    }
   ],
   "source": [
    "# Chart the results\n",
    "ax = data_annual[['Returns','MissTop10']].plot(kind='bar', figsize=(12,8), width = 0.8)\n",
    "ax.legend([\"Fully invested\", \"Miss Top 10\"]);\n",
    "for p in ax.patches:\n",
    "    b = p.get_bbox()\n",
    "    val = \"{:,.0f}%\".format(b.y1 + b.y0)        \n",
    "    ax.annotate(val,((b.x0 + b.x1) / 2 + len(val) * -0.03, b.y1 + 110))\n"
   ]
  },
  {
   "cell_type": "code",
   "execution_count": 19,
   "metadata": {},
   "outputs": [
    {
     "name": "stdout",
     "output_type": "stream",
     "text": [
      "Total returns\n",
      "-------------------------\n",
      "Fully invested since start 2011 4,405,106%\n",
      "Missed top 10 each year -39%\n",
      "Missed top 5 each year 4,531%\n",
      "\n",
      "Compound annual returns\n",
      "-------------------------\n",
      "Fully invested since start 2011 361%\n",
      "Missed top 10 each year -7%\n",
      "Missed top 5 each year 73%\n"
     ]
    }
   ],
   "source": [
    "# Calculate total returns for period and compound annual returns\n",
    "print \"Total returns\"\n",
    "print \"-\" * 25\n",
    "print \"Fully invested since start 2011 {:,.0f}%\".format((((data_annual['Returns'] / 100 + 1).cumprod().iloc[-1])- 1) * 100)\n",
    "print \"Missed top 10 each year {:,.0f}%\".format((((data_annual['MissTop10'] / 100 + 1).cumprod().iloc[-1]) - 1) * 100)\n",
    "print \"Missed top 5 each year {:,.0f}%\".format((((data_annual['MissTop5'] / 100 + 1).cumprod().iloc[-1])- 1) * 100)\n",
    "print\n",
    "print \"Compound annual returns\"\n",
    "print \"-\" * 25\n",
    "print \"Fully invested since start 2011 {:,.0f}%\".format((((data_annual['Returns'] / 100 + 1).cumprod().iloc[-1]) ** (1.0/len(data_annual)) - 1) * 100)\n",
    "print \"Missed top 10 each year {:,.0f}%\".format((((data_annual['MissTop10'] / 100 + 1).cumprod().iloc[-1]) ** (1.0/len(data_annual)) - 1) * 100)\n",
    "print \"Missed top 5 each year {:,.0f}%\".format((((data_annual['MissTop5'] / 100 + 1).cumprod().iloc[-1]) ** (1.0/len(data_annual)) - 1) * 100)"
   ]
  },
  {
   "cell_type": "code",
   "execution_count": 20,
   "metadata": {},
   "outputs": [
    {
     "name": "stdout",
     "output_type": "stream",
     "text": [
      "13.59 731.0\n",
      "5278.955114054452\n",
      "5278.95511405445\n",
      "Date\n",
      "2012-12-25    13.45000\n",
      "2012-12-26    13.39890\n",
      "2012-12-27    13.47000\n",
      "2012-12-28    13.64990\n",
      "2012-12-29    13.67000\n",
      "2012-12-30    13.56998\n",
      "2012-12-31    13.59000\n",
      "2013-01-01    13.56100\n",
      "2013-01-02    13.40000\n",
      "2013-01-03    13.46400\n",
      "2013-01-04    13.48986\n",
      "2013-01-05    13.54800\n",
      "Name: Value, dtype: float64\n",
      "Date\n",
      "2013-12-25    658.07\n",
      "2013-12-26    734.42\n",
      "2013-12-27    715.51\n",
      "2013-12-28    701.61\n",
      "2013-12-29    714.79\n",
      "2013-12-30    739.10\n",
      "2013-12-31    731.00\n",
      "2014-01-01    746.90\n",
      "2014-01-02    758.01\n",
      "2014-01-03    806.21\n",
      "2014-01-04    822.38\n",
      "2014-01-05    896.00\n",
      "Name: Value, dtype: float64\n",
      "0.299999 13215.574\n",
      "4405106.01735339\n",
      "4405106.0173534\n"
     ]
    }
   ],
   "source": [
    "# sanity check on 2013 returns\n",
    "start, end = data.loc['2012-12-31','Value'], data.loc['2013-12-31','Value']\n",
    "print start, end\n",
    "print (end / start - 1) * 100\n",
    "print ((data.loc['2013-1-1':'2013-12-31','Returns'] + 1).cumprod()[-1] - 1) * 100\n",
    "\n",
    "# check prices a few days before and after\n",
    "print data.loc['2012-12-25':'2013-01-5','Value']\n",
    "print data.loc['2013-12-25':'2014-01-5','Value']\n",
    "\n",
    "# sanity check on total returns\n",
    "start, end = data.loc['2010-12-31','Value'], data.loc['2017-12-31','Value']\n",
    "print start, end\n",
    "print (end / start - 1) * 100\n",
    "print ((data.loc['2011-1-1':'2017-12-31','Returns'] + 1).cumprod()[-1] - 1) * 100"
   ]
  },
  {
   "cell_type": "code",
   "execution_count": 22,
   "metadata": {},
   "outputs": [
    {
     "data": {
      "text/html": [
       "<div>\n",
       "<style scoped>\n",
       "    .dataframe tbody tr th:only-of-type {\n",
       "        vertical-align: middle;\n",
       "    }\n",
       "\n",
       "    .dataframe tbody tr th {\n",
       "        vertical-align: top;\n",
       "    }\n",
       "\n",
       "    .dataframe thead tr th {\n",
       "        text-align: left;\n",
       "    }\n",
       "</style>\n",
       "<table border=\"1\" class=\"dataframe\">\n",
       "  <thead>\n",
       "    <tr>\n",
       "      <th></th>\n",
       "      <th colspan=\"8\" halign=\"left\">Returns</th>\n",
       "    </tr>\n",
       "    <tr>\n",
       "      <th></th>\n",
       "      <th>count</th>\n",
       "      <th>mean</th>\n",
       "      <th>std</th>\n",
       "      <th>min</th>\n",
       "      <th>25%</th>\n",
       "      <th>50%</th>\n",
       "      <th>75%</th>\n",
       "      <th>max</th>\n",
       "    </tr>\n",
       "  </thead>\n",
       "  <tbody>\n",
       "    <tr>\n",
       "      <th>2010</th>\n",
       "      <td>136.0</td>\n",
       "      <td>0.024652</td>\n",
       "      <td>0.201461</td>\n",
       "      <td>-0.646286</td>\n",
       "      <td>-0.017378</td>\n",
       "      <td>0.000000</td>\n",
       "      <td>0.019319</td>\n",
       "      <td>1.730109</td>\n",
       "    </tr>\n",
       "    <tr>\n",
       "      <th>2011</th>\n",
       "      <td>365.0</td>\n",
       "      <td>0.012077</td>\n",
       "      <td>0.102483</td>\n",
       "      <td>-0.228715</td>\n",
       "      <td>-0.031291</td>\n",
       "      <td>-0.007201</td>\n",
       "      <td>0.027835</td>\n",
       "      <td>0.900000</td>\n",
       "    </tr>\n",
       "    <tr>\n",
       "      <th>2012</th>\n",
       "      <td>366.0</td>\n",
       "      <td>0.003285</td>\n",
       "      <td>0.033075</td>\n",
       "      <td>-0.213638</td>\n",
       "      <td>-0.009172</td>\n",
       "      <td>0.000000</td>\n",
       "      <td>0.012412</td>\n",
       "      <td>0.144767</td>\n",
       "    </tr>\n",
       "    <tr>\n",
       "      <th>2013</th>\n",
       "      <td>365.0</td>\n",
       "      <td>0.013805</td>\n",
       "      <td>0.074682</td>\n",
       "      <td>-0.380167</td>\n",
       "      <td>-0.011880</td>\n",
       "      <td>0.008491</td>\n",
       "      <td>0.038661</td>\n",
       "      <td>0.431597</td>\n",
       "    </tr>\n",
       "    <tr>\n",
       "      <th>2014</th>\n",
       "      <td>365.0</td>\n",
       "      <td>-0.001603</td>\n",
       "      <td>0.037192</td>\n",
       "      <td>-0.130463</td>\n",
       "      <td>-0.019533</td>\n",
       "      <td>-0.001598</td>\n",
       "      <td>0.013445</td>\n",
       "      <td>0.190434</td>\n",
       "    </tr>\n",
       "    <tr>\n",
       "      <th>2015</th>\n",
       "      <td>365.0</td>\n",
       "      <td>0.001462</td>\n",
       "      <td>0.035805</td>\n",
       "      <td>-0.235567</td>\n",
       "      <td>-0.009617</td>\n",
       "      <td>0.000968</td>\n",
       "      <td>0.013704</td>\n",
       "      <td>0.235751</td>\n",
       "    </tr>\n",
       "    <tr>\n",
       "      <th>2016</th>\n",
       "      <td>366.0</td>\n",
       "      <td>0.002500</td>\n",
       "      <td>0.024942</td>\n",
       "      <td>-0.150515</td>\n",
       "      <td>-0.004369</td>\n",
       "      <td>0.001934</td>\n",
       "      <td>0.009971</td>\n",
       "      <td>0.118442</td>\n",
       "    </tr>\n",
       "    <tr>\n",
       "      <th>2017</th>\n",
       "      <td>365.0</td>\n",
       "      <td>0.008398</td>\n",
       "      <td>0.048698</td>\n",
       "      <td>-0.161979</td>\n",
       "      <td>-0.010423</td>\n",
       "      <td>0.008660</td>\n",
       "      <td>0.031567</td>\n",
       "      <td>0.279686</td>\n",
       "    </tr>\n",
       "    <tr>\n",
       "      <th>2018</th>\n",
       "      <td>101.0</td>\n",
       "      <td>-0.004703</td>\n",
       "      <td>0.060661</td>\n",
       "      <td>-0.202052</td>\n",
       "      <td>-0.039201</td>\n",
       "      <td>0.003159</td>\n",
       "      <td>0.028010</td>\n",
       "      <td>0.133803</td>\n",
       "    </tr>\n",
       "  </tbody>\n",
       "</table>\n",
       "</div>"
      ],
      "text/plain": [
       "     Returns                                                              \\\n",
       "       count      mean       std       min       25%       50%       75%   \n",
       "2010   136.0  0.024652  0.201461 -0.646286 -0.017378  0.000000  0.019319   \n",
       "2011   365.0  0.012077  0.102483 -0.228715 -0.031291 -0.007201  0.027835   \n",
       "2012   366.0  0.003285  0.033075 -0.213638 -0.009172  0.000000  0.012412   \n",
       "2013   365.0  0.013805  0.074682 -0.380167 -0.011880  0.008491  0.038661   \n",
       "2014   365.0 -0.001603  0.037192 -0.130463 -0.019533 -0.001598  0.013445   \n",
       "2015   365.0  0.001462  0.035805 -0.235567 -0.009617  0.000968  0.013704   \n",
       "2016   366.0  0.002500  0.024942 -0.150515 -0.004369  0.001934  0.009971   \n",
       "2017   365.0  0.008398  0.048698 -0.161979 -0.010423  0.008660  0.031567   \n",
       "2018   101.0 -0.004703  0.060661 -0.202052 -0.039201  0.003159  0.028010   \n",
       "\n",
       "                \n",
       "           max  \n",
       "2010  1.730109  \n",
       "2011  0.900000  \n",
       "2012  0.144767  \n",
       "2013  0.431597  \n",
       "2014  0.190434  \n",
       "2015  0.235751  \n",
       "2016  0.118442  \n",
       "2017  0.279686  \n",
       "2018  0.133803  "
      ]
     },
     "execution_count": 22,
     "metadata": {},
     "output_type": "execute_result"
    }
   ],
   "source": [
    "returns_by_year.describe().drop(columns=['Value'], axis = 1)"
   ]
  },
  {
   "cell_type": "code",
   "execution_count": 26,
   "metadata": {},
   "outputs": [
    {
     "data": {
      "text/plain": [
       "[(2010, 5.003585296785785),\n",
       " (2011, 3.596973127335528),\n",
       " (2012, 0.1017441788384816),\n",
       " (2013, -0.01120147635171515),\n",
       " (2014, 0.7967125787202074),\n",
       " (2015, 0.13740439559187484),\n",
       " (2016, -0.36609725863446846),\n",
       " (2017, 0.4079607491266958),\n",
       " (2018, -0.41256475386607394)]"
      ]
     },
     "execution_count": 26,
     "metadata": {},
     "output_type": "execute_result"
    }
   ],
   "source": [
    "# skew by year\n",
    "[(year, frame['Returns'].skew()) for year, frame in returns_by_year]"
   ]
  }
 ],
 "metadata": {
  "kernelspec": {
   "display_name": "Python 2",
   "language": "python",
   "name": "python2"
  }
 },
 "nbformat": 4,
 "nbformat_minor": 2
}
