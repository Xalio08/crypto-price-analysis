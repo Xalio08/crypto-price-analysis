{
 "cells": [
  {
   "cell_type": "markdown",
   "metadata": {},
   "source": [
    "## <center>inspired by this tweet https://twitter.com/MEKhoko/status/981868845794283520</center>\n",
    "\n",
    "<img src=\"fundstrat.jpg\">"
   ]
  },
  {
   "cell_type": "code",
   "execution_count": 37,
   "metadata": {},
   "outputs": [],
   "source": [
    "%matplotlib inline\n",
    "import quandl\n",
    "import numpy as np\n",
    "import pandas as pd\n",
    "import matplotlib.pyplot as plt"
   ]
  },
  {
   "cell_type": "code",
   "execution_count": 38,
   "metadata": {},
   "outputs": [],
   "source": [
    "data = quandl.get(\"BCHAIN/MKPRU\")"
   ]
  },
  {
   "cell_type": "code",
   "execution_count": 39,
   "metadata": {},
   "outputs": [
    {
     "data": {
      "text/html": [
       "<div>\n",
       "<style scoped>\n",
       "    .dataframe tbody tr th:only-of-type {\n",
       "        vertical-align: middle;\n",
       "    }\n",
       "\n",
       "    .dataframe tbody tr th {\n",
       "        vertical-align: top;\n",
       "    }\n",
       "\n",
       "    .dataframe thead th {\n",
       "        text-align: right;\n",
       "    }\n",
       "</style>\n",
       "<table border=\"1\" class=\"dataframe\">\n",
       "  <thead>\n",
       "    <tr style=\"text-align: right;\">\n",
       "      <th></th>\n",
       "      <th>Value</th>\n",
       "    </tr>\n",
       "    <tr>\n",
       "      <th>Date</th>\n",
       "      <th></th>\n",
       "    </tr>\n",
       "  </thead>\n",
       "  <tbody>\n",
       "    <tr>\n",
       "      <th>2009-01-03</th>\n",
       "      <td>0.0</td>\n",
       "    </tr>\n",
       "    <tr>\n",
       "      <th>2009-01-04</th>\n",
       "      <td>0.0</td>\n",
       "    </tr>\n",
       "    <tr>\n",
       "      <th>2009-01-05</th>\n",
       "      <td>0.0</td>\n",
       "    </tr>\n",
       "    <tr>\n",
       "      <th>2009-01-06</th>\n",
       "      <td>0.0</td>\n",
       "    </tr>\n",
       "    <tr>\n",
       "      <th>2009-01-07</th>\n",
       "      <td>0.0</td>\n",
       "    </tr>\n",
       "  </tbody>\n",
       "</table>\n",
       "</div>"
      ],
      "text/plain": [
       "            Value\n",
       "Date             \n",
       "2009-01-03    0.0\n",
       "2009-01-04    0.0\n",
       "2009-01-05    0.0\n",
       "2009-01-06    0.0\n",
       "2009-01-07    0.0"
      ]
     },
     "execution_count": 39,
     "metadata": {},
     "output_type": "execute_result"
    }
   ],
   "source": [
    "data.head()"
   ]
  },
  {
   "cell_type": "code",
   "execution_count": 40,
   "metadata": {},
   "outputs": [
    {
     "data": {
      "text/html": [
       "<div>\n",
       "<style scoped>\n",
       "    .dataframe tbody tr th:only-of-type {\n",
       "        vertical-align: middle;\n",
       "    }\n",
       "\n",
       "    .dataframe tbody tr th {\n",
       "        vertical-align: top;\n",
       "    }\n",
       "\n",
       "    .dataframe thead th {\n",
       "        text-align: right;\n",
       "    }\n",
       "</style>\n",
       "<table border=\"1\" class=\"dataframe\">\n",
       "  <thead>\n",
       "    <tr style=\"text-align: right;\">\n",
       "      <th></th>\n",
       "      <th>Value</th>\n",
       "    </tr>\n",
       "    <tr>\n",
       "      <th>Date</th>\n",
       "      <th></th>\n",
       "    </tr>\n",
       "  </thead>\n",
       "  <tbody>\n",
       "    <tr>\n",
       "      <th>2010-08-17</th>\n",
       "      <td>0.076900</td>\n",
       "    </tr>\n",
       "    <tr>\n",
       "      <th>2010-08-18</th>\n",
       "      <td>0.074000</td>\n",
       "    </tr>\n",
       "    <tr>\n",
       "      <th>2010-08-19</th>\n",
       "      <td>0.068800</td>\n",
       "    </tr>\n",
       "    <tr>\n",
       "      <th>2010-08-20</th>\n",
       "      <td>0.066700</td>\n",
       "    </tr>\n",
       "    <tr>\n",
       "      <th>2010-08-21</th>\n",
       "      <td>0.066899</td>\n",
       "    </tr>\n",
       "  </tbody>\n",
       "</table>\n",
       "</div>"
      ],
      "text/plain": [
       "               Value\n",
       "Date                \n",
       "2010-08-17  0.076900\n",
       "2010-08-18  0.074000\n",
       "2010-08-19  0.068800\n",
       "2010-08-20  0.066700\n",
       "2010-08-21  0.066899"
      ]
     },
     "execution_count": 40,
     "metadata": {},
     "output_type": "execute_result"
    }
   ],
   "source": [
    "data.loc[data['Value'] > 0].head()"
   ]
  },
  {
   "cell_type": "code",
   "execution_count": 41,
   "metadata": {},
   "outputs": [],
   "source": [
    "data = data.loc['2010-08-17':]"
   ]
  },
  {
   "cell_type": "code",
   "execution_count": 42,
   "metadata": {},
   "outputs": [
    {
     "data": {
      "text/html": [
       "<div>\n",
       "<style scoped>\n",
       "    .dataframe tbody tr th:only-of-type {\n",
       "        vertical-align: middle;\n",
       "    }\n",
       "\n",
       "    .dataframe tbody tr th {\n",
       "        vertical-align: top;\n",
       "    }\n",
       "\n",
       "    .dataframe thead th {\n",
       "        text-align: right;\n",
       "    }\n",
       "</style>\n",
       "<table border=\"1\" class=\"dataframe\">\n",
       "  <thead>\n",
       "    <tr style=\"text-align: right;\">\n",
       "      <th></th>\n",
       "      <th>Value</th>\n",
       "    </tr>\n",
       "    <tr>\n",
       "      <th>Date</th>\n",
       "      <th></th>\n",
       "    </tr>\n",
       "  </thead>\n",
       "  <tbody>\n",
       "    <tr>\n",
       "      <th>2010-08-17</th>\n",
       "      <td>0.076900</td>\n",
       "    </tr>\n",
       "    <tr>\n",
       "      <th>2010-08-18</th>\n",
       "      <td>0.074000</td>\n",
       "    </tr>\n",
       "    <tr>\n",
       "      <th>2010-08-19</th>\n",
       "      <td>0.068800</td>\n",
       "    </tr>\n",
       "    <tr>\n",
       "      <th>2010-08-20</th>\n",
       "      <td>0.066700</td>\n",
       "    </tr>\n",
       "    <tr>\n",
       "      <th>2010-08-21</th>\n",
       "      <td>0.066899</td>\n",
       "    </tr>\n",
       "  </tbody>\n",
       "</table>\n",
       "</div>"
      ],
      "text/plain": [
       "               Value\n",
       "Date                \n",
       "2010-08-17  0.076900\n",
       "2010-08-18  0.074000\n",
       "2010-08-19  0.068800\n",
       "2010-08-20  0.066700\n",
       "2010-08-21  0.066899"
      ]
     },
     "execution_count": 42,
     "metadata": {},
     "output_type": "execute_result"
    }
   ],
   "source": [
    "data.head()"
   ]
  },
  {
   "cell_type": "code",
   "execution_count": 43,
   "metadata": {},
   "outputs": [
    {
     "name": "stdout",
     "output_type": "stream",
     "text": [
      "<class 'pandas.core.frame.DataFrame'>\n",
      "DatetimeIndex: 2792 entries, 2010-08-17 to 2018-04-08\n",
      "Data columns (total 1 columns):\n",
      "Value    2792 non-null float64\n",
      "dtypes: float64(1)\n",
      "memory usage: 43.6 KB\n"
     ]
    }
   ],
   "source": [
    "data.info()"
   ]
  },
  {
   "cell_type": "code",
   "execution_count": 44,
   "metadata": {},
   "outputs": [
    {
     "data": {
      "text/plain": [
       "<matplotlib.axes._subplots.AxesSubplot at 0x116de8290>"
      ]
     },
     "execution_count": 44,
     "metadata": {},
     "output_type": "execute_result"
    },
    {
     "data": {
      "image/png": "[encoded data removed]",
      "text/plain": [
       "<matplotlib.figure.Figure at 0x116bad050>"
      ]
     },
     "metadata": {},
     "output_type": "display_data"
    }
   ],
   "source": [
    "data['Value'].plot(figsize=(12,8))"
   ]
  },
  {
   "cell_type": "code",
   "execution_count": 57,
   "metadata": {},
   "outputs": [
    {
     "data": {
      "text/plain": [
       "array([[<matplotlib.axes._subplots.AxesSubplot object at 0x1187d1d10>]],\n",
       "      dtype=object)"
      ]
     },
     "execution_count": 57,
     "metadata": {},
     "output_type": "execute_result"
    },
    {
     "data": {
      "image/png": "[encoded data removed]",
      "text/plain": [
       "<matplotlib.figure.Figure at 0x1187930d0>"
      ]
     },
     "metadata": {},
     "output_type": "display_data"
    }
   ],
   "source": [
    "# Freq plot showing the distribution of returns\n",
    "(data.loc['2011'].pct_change() * 100).hist(bins=100, figsize = (12,8))"
   ]
  },
  {
   "cell_type": "code",
   "execution_count": 70,
   "metadata": {},
   "outputs": [
    {
     "name": "stdout",
     "output_type": "stream",
     "text": [
      "Worst--------------------\n",
      "Date\n",
      "2010-09-16   -64.628571\n",
      "2013-04-12   -38.016700\n",
      "2013-04-11   -37.676273\n",
      "2010-11-08   -25.999852\n",
      "2010-10-12   -23.904689\n",
      "2015-01-14   -23.556672\n",
      "2011-10-18   -22.871520\n",
      "2012-08-19   -21.363762\n",
      "2010-10-25   -21.052632\n",
      "2010-11-10   -20.813539\n",
      "Name: Value, dtype: float64\n",
      "Best--------------------\n",
      "Date\n",
      "2010-09-15    173.010920\n",
      "2011-02-01     90.000000\n",
      "2010-10-24     74.295936\n",
      "2010-11-07     72.413448\n",
      "2011-06-08     67.418153\n",
      "2011-04-30     53.702222\n",
      "2013-04-13     43.159698\n",
      "2011-05-13     42.017284\n",
      "2010-11-03     40.664962\n",
      "2010-10-08     37.931034\n",
      "Name: Value, dtype: float64\n"
     ]
    }
   ],
   "source": [
    "# best and worst days\n",
    "print \"Worst\" + \"-\" * 20\n",
    "print((data['Value'].pct_change() * 100).dropna().sort_values().head(10).sort_values())\n",
    "print \"Best\" + \"-\" * 20\n",
    "print((data['Value'].pct_change() * 100).dropna().sort_values().tail(10).sort_values(ascending = False))"
   ]
  },
  {
   "cell_type": "code",
   "execution_count": 11,
   "metadata": {},
   "outputs": [],
   "source": [
    "data_annual = data.asfreq(\"Y\")\n",
    "data_annual['Returns'] = data_annual['Value'].pct_change() * 100\n",
    "data_annual.index = data_annual.index.year\n",
    "data_annual.dropna(inplace=True)"
   ]
  },
  {
   "cell_type": "code",
   "execution_count": 12,
   "metadata": {},
   "outputs": [
    {
     "data": {
      "text/plain": [
       "Date\n",
       "2011    1565.005550\n",
       "2012     172.072072\n",
       "2013    5278.955114\n",
       "2014     -56.580027\n",
       "2015      34.845621\n",
       "2016     122.464953\n",
       "2017    1287.971853\n",
       "Name: Returns, dtype: float64"
      ]
     },
     "execution_count": 12,
     "metadata": {},
     "output_type": "execute_result"
    }
   ],
   "source": [
    "data_annual['Returns'].head(10)"
   ]
  },
  {
   "cell_type": "code",
   "execution_count": 28,
   "metadata": {},
   "outputs": [
    {
     "data": {
      "image/png": "[encoded data removed]",
      "text/plain": [
       "<matplotlib.figure.Figure at 0x115e866d0>"
      ]
     },
     "metadata": {},
     "output_type": "display_data"
    }
   ],
   "source": [
    "colors = np.sign(data_annual['Returns']).map({1 : 'g', -1 : 'r'}).values\n",
    "data_annual.index.name = '' # Don't want to show 'Date' as a label on chart\n",
    "ax = data_annual['Returns'].plot(kind='bar', figsize=(12,8),color = colors)\n",
    "ax.legend([\"Fully invested\"]);\n",
    "for p in ax.patches:\n",
    "    b = p.get_bbox()\n",
    "    val = \"{:,.0f}%\".format(b.y1 + b.y0)        \n",
    "    ax.annotate(val,((b.x0 + b.x1) / 2 + len(val) * -0.03, b.y1 + 110))"
   ]
  },
  {
   "cell_type": "code",
   "execution_count": 14,
   "metadata": {},
   "outputs": [],
   "source": [
    "data['Returns'] = data['Value'].pct_change()\n",
    "data.dropna(inplace = True)\n",
    "returns_by_year = data.groupby(lambda x: x.year)"
   ]
  },
  {
   "cell_type": "code",
   "execution_count": 15,
   "metadata": {},
   "outputs": [
    {
     "name": "stdout",
     "output_type": "stream",
     "text": [
      "2010 ------------------------------\n",
      "Full year return 290%\n",
      "top 10 days return 4,403%\n",
      "Return if miss 10 top days -91%\n",
      "2011 ------------------------------\n",
      "Full year return 1,565%\n",
      "top 10 days return 3,489%\n",
      "Return if miss 10 top days -54%\n",
      "2012 ------------------------------\n",
      "Full year return 172%\n",
      "top 10 days return 203%\n",
      "Return if miss 10 top days -10%\n",
      "2013 ------------------------------\n",
      "Full year return 5,279%\n",
      "top 10 days return 798%\n",
      "Return if miss 10 top days 499%\n",
      "2014 ------------------------------\n",
      "Full year return -57%\n",
      "top 10 days return 205%\n",
      "Return if miss 10 top days -86%\n",
      "2015 ------------------------------\n",
      "Full year return 35%\n",
      "top 10 days return 175%\n",
      "Return if miss 10 top days -51%\n",
      "2016 ------------------------------\n",
      "Full year return 122%\n",
      "top 10 days return 113%\n",
      "Return if miss 10 top days 4%\n",
      "2017 ------------------------------\n",
      "Full year return 1,288%\n",
      "top 10 days return 313%\n",
      "Return if miss 10 top days 236%\n",
      "2018 ------------------------------\n",
      "Full year return -48%\n",
      "top 10 days return 148%\n",
      "Return if miss 10 top days -79%\n"
     ]
    }
   ],
   "source": [
    "data_annual['MissTop10'] = 0.0\n",
    "data_annual['MissTop5'] = 0.0\n",
    "\n",
    "for year, frame in returns_by_year:\n",
    "    \n",
    "    full_return = (frame['Returns'] + 1).cumprod()[-1] - 1\n",
    "    top10 = frame['Returns'].sort_values()[-10:]\n",
    "    top5 = top10[-5:]\n",
    "    top10_return = (top10 + 1).cumprod()[-1] - 1\n",
    "    top5_return = (top5 + 1).cumprod()[-1] - 1\n",
    "    full_less_top10_return = ((1 + full_return) / (1 + top10_return)) - 1\n",
    "    full_less_top5_return = ((1 + full_return) / (1 + top5_return)) - 1\n",
    "    \n",
    "    data_annual.loc[year, 'MissTop10'] = full_less_top10_return * 100\n",
    "    data_annual.loc[year, 'MissTop5'] = full_less_top5_return * 100\n",
    "    \n",
    "    print year, '-' * 30 \n",
    "    print \"Full year return {:,.0f}%\".format(full_return * 100 )\n",
    "    print \"top 10 days return {:,.0f}%\".format(top10_return * 100)\n",
    "    print \"Return if miss 10 top days {:,.0f}%\".format(full_less_top10_return * 100)\n",
    "    \n",
    "    "
   ]
  },
  {
   "cell_type": "code",
   "execution_count": 30,
   "metadata": {},
   "outputs": [
    {
     "data": {
      "text/html": [
       "<div>\n",
       "<style scoped>\n",
       "    .dataframe tbody tr th:only-of-type {\n",
       "        vertical-align: middle;\n",
       "    }\n",
       "\n",
       "    .dataframe tbody tr th {\n",
       "        vertical-align: top;\n",
       "    }\n",
       "\n",
       "    .dataframe thead th {\n",
       "        text-align: right;\n",
       "    }\n",
       "</style>\n",
       "<table border=\"1\" class=\"dataframe\">\n",
       "  <thead>\n",
       "    <tr style=\"text-align: right;\">\n",
       "      <th></th>\n",
       "      <th>Value</th>\n",
       "      <th>Returns</th>\n",
       "      <th>MissTop10</th>\n",
       "      <th>MissTop5</th>\n",
       "    </tr>\n",
       "    <tr>\n",
       "      <th></th>\n",
       "      <th></th>\n",
       "      <th></th>\n",
       "      <th></th>\n",
       "      <th></th>\n",
       "    </tr>\n",
       "  </thead>\n",
       "  <tbody>\n",
       "    <tr>\n",
       "      <th>2011</th>\n",
       "      <td>4.995</td>\n",
       "      <td>1565.005550</td>\n",
       "      <td>-53.610527</td>\n",
       "      <td>76.179178</td>\n",
       "    </tr>\n",
       "    <tr>\n",
       "      <th>2012</th>\n",
       "      <td>13.590</td>\n",
       "      <td>172.072072</td>\n",
       "      <td>-10.122086</td>\n",
       "      <td>42.163253</td>\n",
       "    </tr>\n",
       "    <tr>\n",
       "      <th>2013</th>\n",
       "      <td>731.000</td>\n",
       "      <td>5278.955114</td>\n",
       "      <td>499.187027</td>\n",
       "      <td>1357.619774</td>\n",
       "    </tr>\n",
       "    <tr>\n",
       "      <th>2014</th>\n",
       "      <td>317.400</td>\n",
       "      <td>-56.580027</td>\n",
       "      <td>-85.757641</td>\n",
       "      <td>-77.870400</td>\n",
       "    </tr>\n",
       "    <tr>\n",
       "      <th>2015</th>\n",
       "      <td>428.000</td>\n",
       "      <td>34.845621</td>\n",
       "      <td>-50.981745</td>\n",
       "      <td>-30.398076</td>\n",
       "    </tr>\n",
       "    <tr>\n",
       "      <th>2016</th>\n",
       "      <td>952.150</td>\n",
       "      <td>122.464953</td>\n",
       "      <td>4.400957</td>\n",
       "      <td>37.428486</td>\n",
       "    </tr>\n",
       "    <tr>\n",
       "      <th>2017</th>\n",
       "      <td>13215.574</td>\n",
       "      <td>1287.971853</td>\n",
       "      <td>236.421711</td>\n",
       "      <td>499.261883</td>\n",
       "    </tr>\n",
       "  </tbody>\n",
       "</table>\n",
       "</div>"
      ],
      "text/plain": [
       "          Value      Returns   MissTop10     MissTop5\n",
       "                                                     \n",
       "2011      4.995  1565.005550  -53.610527    76.179178\n",
       "2012     13.590   172.072072  -10.122086    42.163253\n",
       "2013    731.000  5278.955114  499.187027  1357.619774\n",
       "2014    317.400   -56.580027  -85.757641   -77.870400\n",
       "2015    428.000    34.845621  -50.981745   -30.398076\n",
       "2016    952.150   122.464953    4.400957    37.428486\n",
       "2017  13215.574  1287.971853  236.421711   499.261883"
      ]
     },
     "execution_count": 30,
     "metadata": {},
     "output_type": "execute_result"
    }
   ],
   "source": [
    "data_annual.dropna(inplace = True)\n",
    "data_annual.head(10)"
   ]
  },
  {
   "cell_type": "code",
   "execution_count": 29,
   "metadata": {},
   "outputs": [
    {
     "data": {
      "image/png": "[encoded data removed]",
      "text/plain": [
       "<matplotlib.figure.Figure at 0x115dfacd0>"
      ]
     },
     "metadata": {},
     "output_type": "display_data"
    }
   ],
   "source": [
    "ax = data_annual[['Returns','MissTop10']].plot(kind='bar', figsize=(12,8), width = 0.8)\n",
    "ax.legend([\"Fully invested\", \"Miss Top 10\"]);\n",
    "x_offset, y_offset = -0.03, 110\n",
    "for p in ax.patches:\n",
    "    b = p.get_bbox()\n",
    "    val = \"{:,.0f}%\".format(b.y1 + b.y0)        \n",
    "    ax.annotate(val,((b.x0 + b.x1) / 2 + len(val) * x_offset, b.y1 + y_offset))\n"
   ]
  },
  {
   "cell_type": "code",
   "execution_count": 32,
   "metadata": {},
   "outputs": [
    {
     "name": "stdout",
     "output_type": "stream",
     "text": [
      "Total returns\n",
      "-------------------------\n",
      "Fully invested since start 2011 4,405,106%\n",
      "Missed top 10 each year -39%\n",
      "Missed top 5 each year 4,531%\n",
      "\n",
      "Compound annual returns\n",
      "-------------------------\n",
      "Fully invested since start 2011 361%\n",
      "Missed top 10 each year -7%\n",
      "Missed top 5 each year 73%\n"
     ]
    }
   ],
   "source": [
    "print \"Total returns\"\n",
    "print \"-\" * 25\n",
    "print \"Fully invested since start 2011 {:,.0f}%\".format((((data_annual['Returns'] / 100 + 1).cumprod().iloc[-1])- 1) * 100)\n",
    "print \"Missed top 10 each year {:,.0f}%\".format((((data_annual['MissTop10'] / 100 + 1).cumprod().iloc[-1]) - 1) * 100)\n",
    "print \"Missed top 5 each year {:,.0f}%\".format((((data_annual['MissTop5'] / 100 + 1).cumprod().iloc[-1])- 1) * 100)\n",
    "print\n",
    "print \"Compound annual returns\"\n",
    "print \"-\" * 25\n",
    "print \"Fully invested since start 2011 {:,.0f}%\".format((((data_annual['Returns'] / 100 + 1).cumprod().iloc[-1]) ** (1.0/len(data_annual)) - 1) * 100)\n",
    "print \"Missed top 10 each year {:,.0f}%\".format((((data_annual['MissTop10'] / 100 + 1).cumprod().iloc[-1]) ** (1.0/len(data_annual)) - 1) * 100)\n",
    "print \"Missed top 5 each year {:,.0f}%\".format((((data_annual['MissTop5'] / 100 + 1).cumprod().iloc[-1]) ** (1.0/len(data_annual)) - 1) * 100)"
   ]
  },
  {
   "cell_type": "code",
   "execution_count": 34,
   "metadata": {},
   "outputs": [
    {
     "name": "stdout",
     "output_type": "stream",
     "text": [
      "13.59 731.0\n",
      "5278.955114054452\n",
      "5278.95511405445\n",
      "Date\n",
      "2012-12-25    13.45000\n",
      "2012-12-26    13.39890\n",
      "2012-12-27    13.47000\n",
      "2012-12-28    13.64990\n",
      "2012-12-29    13.67000\n",
      "2012-12-30    13.56998\n",
      "2012-12-31    13.59000\n",
      "2013-01-01    13.56100\n",
      "2013-01-02    13.40000\n",
      "2013-01-03    13.46400\n",
      "2013-01-04    13.48986\n",
      "2013-01-05    13.54800\n",
      "Name: Value, dtype: float64\n",
      "Date\n",
      "2013-12-25    658.07\n",
      "2013-12-26    734.42\n",
      "2013-12-27    715.51\n",
      "2013-12-28    701.61\n",
      "2013-12-29    714.79\n",
      "2013-12-30    739.10\n",
      "2013-12-31    731.00\n",
      "2014-01-01    746.90\n",
      "2014-01-02    758.01\n",
      "2014-01-03    806.21\n",
      "2014-01-04    822.38\n",
      "2014-01-05    896.00\n",
      "Name: Value, dtype: float64\n",
      "0.299999 13215.574\n",
      "4405106.01735339\n",
      "4405106.0173534\n"
     ]
    }
   ],
   "source": [
    "# sanity check on 2013 returns\n",
    "start, end = data.loc['2012-12-31','Value'], data.loc['2013-12-31','Value']\n",
    "print start, end\n",
    "print (end / start - 1) * 100\n",
    "print ((data.loc['2013-1-1':'2013-12-31','Returns'] + 1).cumprod()[-1] - 1) * 100\n",
    "\n",
    "# check prices a few days before and after\n",
    "print data.loc['2012-12-25':'2013-01-5','Value']\n",
    "print data.loc['2013-12-25':'2014-01-5','Value']\n",
    "\n",
    "# sanity check on total returns\n",
    "start, end = data.loc['2010-12-31','Value'], data.loc['2017-12-31','Value']\n",
    "print start, end\n",
    "print (end / start - 1) * 100\n",
    "print ((data.loc['2011-1-1':'2017-12-31','Returns'] + 1).cumprod()[-1] - 1) * 100"
   ]
  }
 ],
 "metadata": {
  "kernelspec": {
   "display_name": "Python 2",
   "language": "python",
   "name": "python2"
  },
  "language_info": {
   "codemirror_mode": {
    "name": "ipython",
    "version": 2
   },
   "file_extension": ".py",
   "mimetype": "text/x-python",
   "name": "python",
   "nbconvert_exporter": "python",
   "pygments_lexer": "ipython2",
   "version": "2.7.14"
  }
 },
 "nbformat": 4,
 "nbformat_minor": 2
}
